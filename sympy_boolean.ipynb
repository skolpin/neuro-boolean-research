{
 "cells": [
  {
   "cell_type": "code",
   "execution_count": 1,
   "id": "1eb54fe6-f5ea-48da-a4b3-e9230a480265",
   "metadata": {},
   "outputs": [],
   "source": [
    "from sympy.logic.boolalg import ANFform"
   ]
  },
  {
   "cell_type": "code",
   "execution_count": 2,
   "id": "f86398bd-eca2-417a-a79b-7c75e3e4e3b2",
   "metadata": {},
   "outputs": [
    {
     "data": {
      "text/latex": [
       "$\\displaystyle x \\veebar \\left(\\text{True}\\right)$"
      ],
      "text/plain": [
       "x ^ True"
      ]
     },
     "execution_count": 2,
     "metadata": {},
     "output_type": "execute_result"
    }
   ],
   "source": [
    "from sympy.logic.boolalg import ANFform\n",
    "from sympy.abc import x, y, z\n",
    "ANFform([x], [1, 0])"
   ]
  },
  {
   "cell_type": "code",
   "execution_count": 3,
   "id": "fb249f19-f31d-4ff6-8cd4-393b3313fb09",
   "metadata": {},
   "outputs": [
    {
     "data": {
      "text/latex": [
       "$\\displaystyle x \\veebar y \\veebar \\left(x \\wedge y\\right)$"
      ],
      "text/plain": [
       "x ^ y ^ (x & y)"
      ]
     },
     "execution_count": 3,
     "metadata": {},
     "output_type": "execute_result"
    }
   ],
   "source": [
    "ANFform([x, y], [0, 1, 1, 1])"
   ]
  },
  {
   "cell_type": "code",
   "execution_count": 4,
   "id": "c9fd1dec-3e98-4b3c-831d-63373c47bbcd",
   "metadata": {},
   "outputs": [
    {
     "data": {
      "text/latex": [
       "$\\displaystyle y \\veebar z \\veebar \\left(x \\wedge y\\right) \\veebar \\left(y \\wedge z\\right) \\veebar \\left(\\text{True}\\right)$"
      ],
      "text/plain": [
       "y ^ z ^ True ^ (x & y) ^ (y & z)"
      ]
     },
     "execution_count": 4,
     "metadata": {},
     "output_type": "execute_result"
    }
   ],
   "source": [
    "ANFform([x, y, z], [1, 0, 0, 0, 1, 0, 1, 1])"
   ]
  },
  {
   "cell_type": "code",
   "execution_count": 5,
   "id": "827faa33-28ec-4d5f-8ba3-921d193538a3",
   "metadata": {},
   "outputs": [
    {
     "data": {
      "text/plain": [
       "[1, 1, 1, 1, 0, 0, 1, 0]"
      ]
     },
     "execution_count": 5,
     "metadata": {},
     "output_type": "execute_result"
    }
   ],
   "source": [
    "from sympy.logic.boolalg import anf_coeffs, bool_monomial, Xor\n",
    "from sympy.abc import a, b, c\n",
    "truthvalues = [int(i) for i in list('10001011')]\n",
    "coeffs = anf_coeffs(truthvalues)\n",
    "coeffs\n"
   ]
  },
  {
   "cell_type": "code",
   "execution_count": null,
   "id": "6565be8d-2b54-4cdc-9694-4e8e6ca9c0b2",
   "metadata": {},
   "outputs": [],
   "source": []
  },
  {
   "cell_type": "code",
   "execution_count": 6,
   "id": "bced02df-53d5-40f2-be51-af49e985e59b",
   "metadata": {},
   "outputs": [
    {
     "data": {
      "text/latex": [
       "$\\displaystyle \\neg \\left(b \\veebar c \\veebar \\left(a \\wedge b\\right) \\veebar \\left(b \\wedge c\\right)\\right)$"
      ],
      "text/plain": [
       "~(b ^ c ^ (a & b) ^ (b & c))"
      ]
     },
     "execution_count": 6,
     "metadata": {},
     "output_type": "execute_result"
    }
   ],
   "source": [
    "polynomial = Xor(*[\n",
    "    bool_monomial(k, [a, b, c])\n",
    "    for k, coeff in enumerate(coeffs) if coeff == 1\n",
    "])\n",
    "polynomial"
   ]
  }
 ],
 "metadata": {
  "kernelspec": {
   "display_name": "Python 3 (ipykernel)",
   "language": "python",
   "name": "python3"
  },
  "language_info": {
   "codemirror_mode": {
    "name": "ipython",
    "version": 3
   },
   "file_extension": ".py",
   "mimetype": "text/x-python",
   "name": "python",
   "nbconvert_exporter": "python",
   "pygments_lexer": "ipython3",
   "version": "3.8.10"
  }
 },
 "nbformat": 4,
 "nbformat_minor": 5
}

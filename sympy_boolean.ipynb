{
  "cells": [
    {
      "cell_type": "markdown",
      "metadata": {
        "id": "view-in-github",
        "colab_type": "text"
      },
      "source": [
        "<a href=\"https://colab.research.google.com/github/skolpin/neuro-boolean-research/blob/main/sympy_boolean.ipynb\" target=\"_parent\"><img src=\"https://colab.research.google.com/assets/colab-badge.svg\" alt=\"Open In Colab\"/></a>"
      ]
    },
    {
      "cell_type": "code",
      "execution_count": null,
      "id": "1eb54fe6-f5ea-48da-a4b3-e9230a480265",
      "metadata": {
        "id": "1eb54fe6-f5ea-48da-a4b3-e9230a480265"
      },
      "outputs": [],
      "source": [
        "from sympy.logic.boolalg import ANFform"
      ]
    },
    {
      "cell_type": "code",
      "execution_count": null,
      "id": "f86398bd-eca2-417a-a79b-7c75e3e4e3b2",
      "metadata": {
        "id": "f86398bd-eca2-417a-a79b-7c75e3e4e3b2",
        "outputId": "9d2cf4f5-5539-43d5-8d26-d7c4e6a5c40a"
      },
      "outputs": [
        {
          "data": {
            "text/latex": [
              "$\\displaystyle x \\veebar \\left(\\text{True}\\right)$"
            ],
            "text/plain": [
              "x ^ True"
            ]
          },
          "execution_count": 2,
          "metadata": {},
          "output_type": "execute_result"
        }
      ],
      "source": [
        "from sympy.logic.boolalg import ANFform\n",
        "from sympy.abc import x, y, z\n",
        "ANFform([x], [1, 0])"
      ]
    },
    {
      "cell_type": "code",
      "execution_count": null,
      "id": "fb249f19-f31d-4ff6-8cd4-393b3313fb09",
      "metadata": {
        "id": "fb249f19-f31d-4ff6-8cd4-393b3313fb09",
        "outputId": "a8f82610-2766-4414-d875-57467422730b"
      },
      "outputs": [
        {
          "data": {
            "text/latex": [
              "$\\displaystyle x \\veebar y \\veebar \\left(x \\wedge y\\right)$"
            ],
            "text/plain": [
              "x ^ y ^ (x & y)"
            ]
          },
          "execution_count": 3,
          "metadata": {},
          "output_type": "execute_result"
        }
      ],
      "source": [
        "ANFform([x, y], [0, 1, 1, 1])"
      ]
    },
    {
      "cell_type": "code",
      "execution_count": null,
      "id": "c9fd1dec-3e98-4b3c-831d-63373c47bbcd",
      "metadata": {
        "id": "c9fd1dec-3e98-4b3c-831d-63373c47bbcd",
        "outputId": "93576462-2616-44b8-ce06-ffde9266db1a"
      },
      "outputs": [
        {
          "data": {
            "text/latex": [
              "$\\displaystyle y \\veebar z \\veebar \\left(x \\wedge y\\right) \\veebar \\left(y \\wedge z\\right) \\veebar \\left(\\text{True}\\right)$"
            ],
            "text/plain": [
              "y ^ z ^ True ^ (x & y) ^ (y & z)"
            ]
          },
          "execution_count": 4,
          "metadata": {},
          "output_type": "execute_result"
        }
      ],
      "source": [
        "ANFform([x, y, z], [1, 0, 0, 0, 1, 0, 1, 1])"
      ]
    },
    {
      "cell_type": "code",
      "execution_count": null,
      "id": "827faa33-28ec-4d5f-8ba3-921d193538a3",
      "metadata": {
        "id": "827faa33-28ec-4d5f-8ba3-921d193538a3",
        "outputId": "ddda71ef-b7c3-4372-b981-8cd08084ab24"
      },
      "outputs": [
        {
          "data": {
            "text/plain": [
              "[1, 1, 1, 1, 0, 0, 1, 0]"
            ]
          },
          "execution_count": 5,
          "metadata": {},
          "output_type": "execute_result"
        }
      ],
      "source": [
        "from sympy.logic.boolalg import anf_coeffs, bool_monomial, Xor\n",
        "from sympy.abc import a, b, c\n",
        "truthvalues = [int(i) for i in list('10001011')]\n",
        "coeffs = anf_coeffs(truthvalues)\n",
        "coeffs\n"
      ]
    },
    {
      "cell_type": "code",
      "execution_count": null,
      "id": "6565be8d-2b54-4cdc-9694-4e8e6ca9c0b2",
      "metadata": {
        "id": "6565be8d-2b54-4cdc-9694-4e8e6ca9c0b2"
      },
      "outputs": [],
      "source": []
    },
    {
      "cell_type": "code",
      "execution_count": null,
      "id": "bced02df-53d5-40f2-be51-af49e985e59b",
      "metadata": {
        "id": "bced02df-53d5-40f2-be51-af49e985e59b",
        "outputId": "8b9a7fdd-1fe1-48c4-bfff-12879d6a873a"
      },
      "outputs": [
        {
          "data": {
            "text/latex": [
              "$\\displaystyle \\neg \\left(b \\veebar c \\veebar \\left(a \\wedge b\\right) \\veebar \\left(b \\wedge c\\right)\\right)$"
            ],
            "text/plain": [
              "~(b ^ c ^ (a & b) ^ (b & c))"
            ]
          },
          "execution_count": 6,
          "metadata": {},
          "output_type": "execute_result"
        }
      ],
      "source": [
        "polynomial = Xor(*[\n",
        "    bool_monomial(k, [a, b, c])\n",
        "    for k, coeff in enumerate(coeffs) if coeff == 1\n",
        "])\n",
        "polynomial"
      ]
    },
    {
      "cell_type": "markdown",
      "source": [
        "test"
      ],
      "metadata": {
        "id": "LmFULF_gC_8b"
      },
      "id": "LmFULF_gC_8b"
    }
  ],
  "metadata": {
    "kernelspec": {
      "display_name": "Python 3",
      "language": "python",
      "name": "python3"
    },
    "language_info": {
      "codemirror_mode": {
        "name": "ipython",
        "version": 3
      },
      "file_extension": ".py",
      "mimetype": "text/x-python",
      "name": "python",
      "nbconvert_exporter": "python",
      "pygments_lexer": "ipython3",
      "version": "3.7.9"
    },
    "colab": {
      "provenance": [],
      "include_colab_link": true
    }
  },
  "nbformat": 4,
  "nbformat_minor": 5
}
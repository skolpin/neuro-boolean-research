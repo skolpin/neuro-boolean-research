{
 "cells": [
  {
   "cell_type": "code",
   "execution_count": 1,
   "id": "f9ec5eb2-3cbe-4652-9d78-2bb72d039795",
   "metadata": {},
   "outputs": [],
   "source": [
    "import numpy as np\n",
    "import pandas as pd\n",
    "import torch\n",
    "from torch import nn"
   ]
  },
  {
   "cell_type": "code",
   "execution_count": 2,
   "id": "82e93260-1815-4f14-8723-b6ce10d3ab0d",
   "metadata": {},
   "outputs": [],
   "source": [
    "def dec2bin(x, n=7):\n",
    "    \"\"\"\n",
    "    creating a binary list of integer non-negative x\n",
    "    \"\"\"\n",
    "    u = 2 ** n - 1\n",
    "    x = int(x)\n",
    "    assert x >= 0, 'Input value x must be non-negative'\n",
    "    assert x <= u, f'Input value x with n = {n} must be less than {u}'\n",
    "    \n",
    "    y = []\n",
    "    if x == 0:\n",
    "        for i in range(n):\n",
    "            y.append(0)\n",
    "    else:\n",
    "        while x != 1:\n",
    "            y.append(x % 2)\n",
    "            x = x // 2\n",
    "        y.append(x)\n",
    "        delta = n - len(y)\n",
    "        for i in range(delta):\n",
    "            y.append(0)\n",
    "        y.reverse()\n",
    "    return y"
   ]
  },
  {
   "cell_type": "code",
   "execution_count": 3,
   "id": "db837d9c-04b2-41e5-8ee4-e615959b4efc",
   "metadata": {},
   "outputs": [],
   "source": [
    "def get_all_X(n_inputs):\n",
    "    \"\"\"\n",
    "    for given number of variables returns\n",
    "    all binary combinations of these variables\n",
    "    \"\"\"\n",
    "    X = []\n",
    "    for i in range(2**n_inputs):\n",
    "        X += [dec2bin(i, n=n_inputs)]\n",
    "    X = np.array(X)\n",
    "    return X"
   ]
  },
  {
   "cell_type": "code",
   "execution_count": 4,
   "id": "40a2cedd-519d-4d14-bce2-4e612aa608d8",
   "metadata": {},
   "outputs": [],
   "source": [
    "def random_boolfunc(n_inputs):\n",
    "    \"\"\"\n",
    "    for given number of variables returns\n",
    "    the truth table, where output is random binary vector\n",
    "    \"\"\"\n",
    "    X = get_all_X(n_inputs)\n",
    "    y = np.random.randint(0, 2, size=(2**n_inputs, 1))\n",
    "    return X, y\n",
    "   \n",
    "def _and(n_inputs=2):\n",
    "    \"\"\"\n",
    "    for given number of variables returns\n",
    "    the truth table of AND logical gate\n",
    "    \"\"\"\n",
    "    X = get_all_X(n_inputs)\n",
    "    y = np.append(\n",
    "        np.zeros(shape=(2 ** n_inputs - 1, 1), dtype=int),\n",
    "        np.array([[1]]),\n",
    "        axis=0\n",
    "    )\n",
    "    return X, y\n",
    "    \n",
    "def _or(n_inputs=2):\n",
    "    \"\"\"\n",
    "    for given number of variables returns\n",
    "    the truth table of OR logical gate\n",
    "    \"\"\"\n",
    "    X = get_all_X(n_inputs)\n",
    "    y = np.append(\n",
    "        np.array([[0]]),\n",
    "        np.ones(shape=(2 ** n_inputs - 1, 1), dtype=int),\n",
    "        axis=0\n",
    "    )\n",
    "    return X, y\n",
    "\n",
    "def _xor(n_inputs=2):\n",
    "    \"\"\"\n",
    "    for given number of variables returns\n",
    "    the truth table of XOR logical gate\n",
    "    \"\"\"\n",
    "    X = get_all_X(n_inputs)\n",
    "    y = (np.sum(X, axis=1) % 2).reshape(-1, 1)\n",
    "    return X, y\n",
    "\n",
    "def to_dataframe(X, y):\n",
    "    \"\"\"\n",
    "    for the truth table in form of two arrays \n",
    "    X [2 ** n_inputs, n_inputs] and y [2 ** n_inputs, 1]\n",
    "    combine it to the form of Pandas DataFrame\n",
    "    \"\"\"\n",
    "    data=np.concatenate((X, y), axis=1)\n",
    "    n_inputs = X.shape[1]\n",
    "    return pd.DataFrame(data=data, columns=[f'x{i}' for i in range(n_inputs, 0, -1)] + ['y'])"
   ]
  },
  {
   "cell_type": "code",
   "execution_count": 61,
   "id": "f95844a9-9975-4863-9d3d-f1f3707fdd71",
   "metadata": {},
   "outputs": [],
   "source": [
    "n = 3"
   ]
  },
  {
   "cell_type": "code",
   "execution_count": 68,
   "id": "79d825d5-cecf-4112-ade4-df71d38a5f08",
   "metadata": {},
   "outputs": [
    {
     "name": "stdout",
     "output_type": "stream",
     "text": [
      "Wall time: 0 ns\n"
     ]
    },
    {
     "data": {
      "text/html": [
       "<div>\n",
       "<style scoped>\n",
       "    .dataframe tbody tr th:only-of-type {\n",
       "        vertical-align: middle;\n",
       "    }\n",
       "\n",
       "    .dataframe tbody tr th {\n",
       "        vertical-align: top;\n",
       "    }\n",
       "\n",
       "    .dataframe thead th {\n",
       "        text-align: right;\n",
       "    }\n",
       "</style>\n",
       "<table border=\"1\" class=\"dataframe\">\n",
       "  <thead>\n",
       "    <tr style=\"text-align: right;\">\n",
       "      <th></th>\n",
       "      <th>x3</th>\n",
       "      <th>x2</th>\n",
       "      <th>x1</th>\n",
       "      <th>y</th>\n",
       "    </tr>\n",
       "  </thead>\n",
       "  <tbody>\n",
       "    <tr>\n",
       "      <th>0</th>\n",
       "      <td>0</td>\n",
       "      <td>0</td>\n",
       "      <td>0</td>\n",
       "      <td>0</td>\n",
       "    </tr>\n",
       "    <tr>\n",
       "      <th>1</th>\n",
       "      <td>0</td>\n",
       "      <td>0</td>\n",
       "      <td>1</td>\n",
       "      <td>0</td>\n",
       "    </tr>\n",
       "    <tr>\n",
       "      <th>2</th>\n",
       "      <td>0</td>\n",
       "      <td>1</td>\n",
       "      <td>0</td>\n",
       "      <td>1</td>\n",
       "    </tr>\n",
       "    <tr>\n",
       "      <th>3</th>\n",
       "      <td>0</td>\n",
       "      <td>1</td>\n",
       "      <td>1</td>\n",
       "      <td>1</td>\n",
       "    </tr>\n",
       "    <tr>\n",
       "      <th>4</th>\n",
       "      <td>1</td>\n",
       "      <td>0</td>\n",
       "      <td>0</td>\n",
       "      <td>1</td>\n",
       "    </tr>\n",
       "    <tr>\n",
       "      <th>5</th>\n",
       "      <td>1</td>\n",
       "      <td>0</td>\n",
       "      <td>1</td>\n",
       "      <td>1</td>\n",
       "    </tr>\n",
       "    <tr>\n",
       "      <th>6</th>\n",
       "      <td>1</td>\n",
       "      <td>1</td>\n",
       "      <td>0</td>\n",
       "      <td>0</td>\n",
       "    </tr>\n",
       "    <tr>\n",
       "      <th>7</th>\n",
       "      <td>1</td>\n",
       "      <td>1</td>\n",
       "      <td>1</td>\n",
       "      <td>1</td>\n",
       "    </tr>\n",
       "  </tbody>\n",
       "</table>\n",
       "</div>"
      ],
      "text/plain": [
       "   x3  x2  x1  y\n",
       "0   0   0   0  0\n",
       "1   0   0   1  0\n",
       "2   0   1   0  1\n",
       "3   0   1   1  1\n",
       "4   1   0   0  1\n",
       "5   1   0   1  1\n",
       "6   1   1   0  0\n",
       "7   1   1   1  1"
      ]
     },
     "execution_count": 68,
     "metadata": {},
     "output_type": "execute_result"
    }
   ],
   "source": [
    "%%time\n",
    "X, y = random_boolfunc(n_inputs=n)\n",
    "to_dataframe(X, y)"
   ]
  },
  {
   "cell_type": "code",
   "execution_count": 69,
   "id": "3e34c8fc-4244-4097-9ff5-cb6caad866fe",
   "metadata": {},
   "outputs": [],
   "source": [
    "X, y = torch.Tensor(X), torch.Tensor(y)"
   ]
  },
  {
   "cell_type": "code",
   "execution_count": 70,
   "id": "1415d0e8-0837-47da-b1b7-ce2121b95b60",
   "metadata": {},
   "outputs": [],
   "source": [
    "class Neuron(nn.Module):\n",
    "    def __init__(self, n_inputs, activation=nn.Sigmoid()):\n",
    "        super().__init__()\n",
    "        self.fc1 = nn.Linear(n_inputs, 1)\n",
    "        #self.fc2 = nn.Linear(2,1)\n",
    "        self.activation = activation\n",
    "    \n",
    "    def forward(self, x):\n",
    "        x = self.fc1(x)\n",
    "        x = self.activation(x)\n",
    "        #x = self.fc2(x)\n",
    "        #x = self.activation(x)\n",
    "        return x"
   ]
  },
  {
   "cell_type": "code",
   "execution_count": 71,
   "id": "8076a7fc-9e0b-48ab-9a75-e3c99bb7429b",
   "metadata": {
    "scrolled": true,
    "tags": []
   },
   "outputs": [
    {
     "name": "stdout",
     "output_type": "stream",
     "text": [
      "epoch 100: loss 0.60\n",
      "epoch 200: loss 0.57\n",
      "epoch 300: loss 0.56\n",
      "epoch 400: loss 0.55\n",
      "epoch 500: loss 0.55\n",
      "epoch 600: loss 0.55\n",
      "epoch 700: loss 0.55\n",
      "epoch 800: loss 0.55\n",
      "epoch 900: loss 0.55\n",
      "epoch 1000: loss 0.55\n",
      "epoch 1100: loss 0.55\n",
      "epoch 1200: loss 0.55\n",
      "epoch 1300: loss 0.55\n",
      "epoch 1400: loss 0.55\n",
      "epoch 1500: loss 0.55\n",
      "epoch 1600: loss 0.55\n",
      "epoch 1700: loss 0.55\n",
      "epoch 1800: loss 0.55\n",
      "epoch 1900: loss 0.55\n",
      "epoch 2000: loss 0.55\n",
      "epoch 2100: loss 0.55\n",
      "epoch 2200: loss 0.55\n",
      "epoch 2300: loss 0.55\n",
      "epoch 2400: loss 0.55\n",
      "epoch 2500: loss 0.55\n",
      "epoch 2600: loss 0.55\n",
      "epoch 2700: loss 0.55\n",
      "epoch 2800: loss 0.55\n",
      "epoch 2900: loss 0.55\n",
      "epoch 3000: loss 0.55\n",
      "epoch 3100: loss 0.55\n",
      "epoch 3200: loss 0.55\n",
      "epoch 3300: loss 0.55\n",
      "epoch 3400: loss 0.55\n",
      "epoch 3500: loss 0.55\n",
      "epoch 3600: loss 0.55\n",
      "epoch 3700: loss 0.55\n",
      "epoch 3800: loss 0.55\n",
      "epoch 3900: loss 0.55\n",
      "epoch 4000: loss 0.55\n",
      "epoch 4100: loss 0.55\n",
      "epoch 4200: loss 0.55\n",
      "epoch 4300: loss 0.55\n",
      "epoch 4400: loss 0.55\n",
      "epoch 4500: loss 0.55\n",
      "epoch 4600: loss 0.55\n",
      "epoch 4700: loss 0.55\n",
      "epoch 4800: loss 0.55\n",
      "epoch 4900: loss 0.55\n",
      "epoch 5000: loss 0.55\n"
     ]
    }
   ],
   "source": [
    "model = Neuron(n_inputs=n)\n",
    "optimizer = torch.optim.Adam(model.parameters(), lr = 0.01)\n",
    "criterion = torch.nn.BCELoss()\n",
    "#criterion = torch.nn.MSELoss()\n",
    "n_epochs = 5000\n",
    "for i in range(1, n_epochs+1):\n",
    "    optimizer.zero_grad()\n",
    "    output = model(X)\n",
    "    loss = criterion(output, y)\n",
    "    loss.backward()\n",
    "    optimizer.step()\n",
    "    if i % 100 == 0:\n",
    "        print(f'epoch {i}: loss {loss:.2f}')"
   ]
  },
  {
   "cell_type": "code",
   "execution_count": 88,
   "id": "e1d63daf-6d2f-458f-b770-1651b13c03fa",
   "metadata": {},
   "outputs": [
    {
     "data": {
      "text/plain": [
       "tensor([[0.2151],\n",
       "        [0.5000],\n",
       "        [0.5000],\n",
       "        [0.7849],\n",
       "        [0.5000],\n",
       "        [0.7849],\n",
       "        [0.7849],\n",
       "        [0.9302]], grad_fn=<SigmoidBackward0>)"
      ]
     },
     "execution_count": 88,
     "metadata": {},
     "output_type": "execute_result"
    }
   ],
   "source": [
    "output"
   ]
  },
  {
   "cell_type": "code",
   "execution_count": 90,
   "id": "7d57cb4d-8559-4c14-a9ba-fcc4ad287edf",
   "metadata": {},
   "outputs": [
    {
     "data": {
      "text/plain": [
       "tensor([[0.],\n",
       "        [1.],\n",
       "        [1.],\n",
       "        [1.],\n",
       "        [1.],\n",
       "        [1.],\n",
       "        [1.],\n",
       "        [1.]], grad_fn=<NotImplemented>)"
      ]
     },
     "execution_count": 90,
     "metadata": {},
     "output_type": "execute_result"
    }
   ],
   "source": [
    "torch.heaviside(output - 0.5, torch.tensor([[1.]]))"
   ]
  },
  {
   "cell_type": "code",
   "execution_count": 91,
   "id": "323a6d6f-5ea1-4dd7-934e-47c59c66ff6a",
   "metadata": {},
   "outputs": [
    {
     "data": {
      "text/plain": [
       "tensor([[0.],\n",
       "        [0.],\n",
       "        [1.],\n",
       "        [1.],\n",
       "        [1.],\n",
       "        [1.],\n",
       "        [0.],\n",
       "        [1.]])"
      ]
     },
     "execution_count": 91,
     "metadata": {},
     "output_type": "execute_result"
    }
   ],
   "source": [
    "y"
   ]
  },
  {
   "cell_type": "code",
   "execution_count": 109,
   "id": "63838b54-9253-4644-8211-d59af5d5d057",
   "metadata": {},
   "outputs": [
    {
     "data": {
      "text/plain": [
       "tensor([[0., 0., 0.],\n",
       "        [0., 0., 1.],\n",
       "        [0., 1., 0.],\n",
       "        [0., 1., 1.],\n",
       "        [1., 0., 0.],\n",
       "        [1., 0., 1.],\n",
       "        [1., 1., 0.],\n",
       "        [1., 1., 1.]])"
      ]
     },
     "execution_count": 109,
     "metadata": {},
     "output_type": "execute_result"
    }
   ],
   "source": [
    "X"
   ]
  },
  {
   "cell_type": "code",
   "execution_count": 98,
   "id": "43c18ea9-7d56-4956-9998-3ce41394dfa7",
   "metadata": {},
   "outputs": [
    {
     "data": {
      "text/plain": [
       "tensor([False,  True, False, False, False, False,  True, False])"
      ]
     },
     "execution_count": 98,
     "metadata": {},
     "output_type": "execute_result"
    }
   ],
   "source": [
    "mask = (torch.heaviside(output - 0.5, torch.tensor([[1.]])) != y)[:,0]\n",
    "mask"
   ]
  },
  {
   "cell_type": "code",
   "execution_count": 103,
   "id": "95e58d77-05ad-46d1-88ba-7db88db0fbbc",
   "metadata": {},
   "outputs": [
    {
     "data": {
      "text/plain": [
       "(tensor([[0., 0., 1.],\n",
       "         [1., 1., 0.]]),\n",
       " tensor([[0.],\n",
       "         [0.]]))"
      ]
     },
     "execution_count": 103,
     "metadata": {},
     "output_type": "execute_result"
    }
   ],
   "source": [
    "X_new = X[mask]\n",
    "y_new = y[mask]\n",
    "X_new, y_new"
   ]
  },
  {
   "cell_type": "code",
   "execution_count": 104,
   "id": "07229066-7fd3-4a62-9794-3de127efeb76",
   "metadata": {
    "scrolled": true,
    "tags": []
   },
   "outputs": [
    {
     "name": "stdout",
     "output_type": "stream",
     "text": [
      "epoch 100: loss 0.00\n",
      "epoch 200: loss 0.00\n",
      "epoch 300: loss 0.00\n",
      "epoch 400: loss 0.00\n",
      "epoch 500: loss 0.00\n",
      "epoch 600: loss 0.00\n",
      "epoch 700: loss 0.00\n",
      "epoch 800: loss 0.00\n",
      "epoch 900: loss 0.00\n",
      "epoch 1000: loss 0.00\n",
      "epoch 1100: loss 0.00\n",
      "epoch 1200: loss 0.00\n",
      "epoch 1300: loss 0.00\n",
      "epoch 1400: loss 0.00\n",
      "epoch 1500: loss 0.00\n",
      "epoch 1600: loss 0.00\n",
      "epoch 1700: loss 0.00\n",
      "epoch 1800: loss 0.00\n",
      "epoch 1900: loss 0.00\n",
      "epoch 2000: loss 0.00\n",
      "epoch 2100: loss 0.00\n",
      "epoch 2200: loss 0.00\n",
      "epoch 2300: loss 0.00\n",
      "epoch 2400: loss 0.00\n",
      "epoch 2500: loss 0.00\n",
      "epoch 2600: loss 0.00\n",
      "epoch 2700: loss 0.00\n",
      "epoch 2800: loss 0.00\n",
      "epoch 2900: loss 0.00\n",
      "epoch 3000: loss 0.00\n",
      "epoch 3100: loss 0.00\n",
      "epoch 3200: loss 0.00\n",
      "epoch 3300: loss 0.00\n",
      "epoch 3400: loss 0.00\n",
      "epoch 3500: loss 0.00\n",
      "epoch 3600: loss 0.00\n",
      "epoch 3700: loss 0.00\n",
      "epoch 3800: loss 0.00\n",
      "epoch 3900: loss 0.00\n",
      "epoch 4000: loss 0.00\n",
      "epoch 4100: loss 0.00\n",
      "epoch 4200: loss 0.00\n",
      "epoch 4300: loss 0.00\n",
      "epoch 4400: loss 0.00\n",
      "epoch 4500: loss 0.00\n",
      "epoch 4600: loss 0.00\n",
      "epoch 4700: loss 0.00\n",
      "epoch 4800: loss 0.00\n",
      "epoch 4900: loss 0.00\n",
      "epoch 5000: loss 0.00\n"
     ]
    }
   ],
   "source": [
    "model2 = Neuron(n_inputs=n)\n",
    "optimizer = torch.optim.Adam(model2.parameters(), lr = 0.1)\n",
    "criterion = torch.nn.BCELoss()\n",
    "#criterion = torch.nn.MSELoss()\n",
    "n_epochs = 5000\n",
    "for i in range(1, n_epochs+1):\n",
    "    optimizer.zero_grad()\n",
    "    pred2 = model2(X_new)\n",
    "    loss = criterion(pred2, y_new)\n",
    "    loss.backward()\n",
    "    optimizer.step()\n",
    "    if i % 100 == 0:\n",
    "        print(f'epoch {i}: loss {loss:.2f}')"
   ]
  },
  {
   "cell_type": "code",
   "execution_count": 105,
   "id": "b963c09f-e196-4df8-9996-063181b36d8c",
   "metadata": {},
   "outputs": [
    {
     "data": {
      "text/plain": [
       "(tensor([[6.7834e-06],\n",
       "         [3.4405e-06]], grad_fn=<SigmoidBackward0>),\n",
       " tensor([[0.],\n",
       "         [0.]]))"
      ]
     },
     "execution_count": 105,
     "metadata": {},
     "output_type": "execute_result"
    }
   ],
   "source": [
    "pred2, y_new"
   ]
  },
  {
   "cell_type": "code",
   "execution_count": 110,
   "id": "d6aaad7d-284d-485c-b308-0d280886a3e6",
   "metadata": {},
   "outputs": [
    {
     "data": {
      "text/plain": [
       "tensor([[0.],\n",
       "        [0.]], grad_fn=<NotImplemented>)"
      ]
     },
     "execution_count": 110,
     "metadata": {},
     "output_type": "execute_result"
    }
   ],
   "source": [
    "torch.heaviside(pred2 - 0.5, torch.tensor([[1.]]))"
   ]
  },
  {
   "cell_type": "code",
   "execution_count": 111,
   "id": "8a1f5c4d-5465-4332-bdfc-965622211f44",
   "metadata": {},
   "outputs": [
    {
     "data": {
      "text/plain": [
       "tensor([[0.],\n",
       "        [0.]])"
      ]
     },
     "execution_count": 111,
     "metadata": {},
     "output_type": "execute_result"
    }
   ],
   "source": [
    "y_new"
   ]
  },
  {
   "cell_type": "code",
   "execution_count": 204,
   "id": "a635c85e-69f4-47b8-b70f-4a137fa53568",
   "metadata": {},
   "outputs": [],
   "source": [
    "class BigModel(nn.Module):\n",
    "    def __init__(self, base_models: list):\n",
    "        super().__init__()\n",
    "        self.base_models = base_models\n",
    "        \n",
    "        for model in self.base_models:\n",
    "            for param in model.parameters():\n",
    "                param.requires_grad = False\n",
    "        \n",
    "        self.n_hidden = len(base_models)\n",
    "        self.fc = nn.Linear(self.n_hidden, 1)\n",
    "        self.activation = nn.Sigmoid()\n",
    "    \n",
    "    def forward(self, x):\n",
    "        hidden_out = torch.empty(x.size()[0],self.n_hidden)\n",
    "        for n, base_model in enumerate(self.base_models):\n",
    "            tmp = base_model(x)[:,0]\n",
    "            hidden_out[:,n] = tmp\n",
    "        \n",
    "        out = self.activation(self.fc(hidden_out))\n",
    "        \n",
    "        return out"
   ]
  },
  {
   "cell_type": "code",
   "execution_count": 205,
   "id": "4abff207-dfb1-4554-8412-b720faa645ab",
   "metadata": {},
   "outputs": [],
   "source": [
    "big_model = BigModel([model, model2])"
   ]
  },
  {
   "cell_type": "code",
   "execution_count": 206,
   "id": "1e92f6f0-6569-4521-aaae-99184ca81bab",
   "metadata": {},
   "outputs": [
    {
     "data": {
      "text/plain": [
       "torch.Size([8])"
      ]
     },
     "execution_count": 206,
     "metadata": {},
     "output_type": "execute_result"
    }
   ],
   "source": [
    "model(X)[:,0].size()"
   ]
  },
  {
   "cell_type": "code",
   "execution_count": 207,
   "id": "6e165c3a-062e-4612-8f05-97073525ec3e",
   "metadata": {},
   "outputs": [
    {
     "data": {
      "text/plain": [
       "tensor([[0.4769],\n",
       "        [0.4545],\n",
       "        [0.4545],\n",
       "        [0.4316],\n",
       "        [0.4545],\n",
       "        [0.4316],\n",
       "        [0.4316],\n",
       "        [0.4200]], grad_fn=<SigmoidBackward0>)"
      ]
     },
     "execution_count": 207,
     "metadata": {},
     "output_type": "execute_result"
    }
   ],
   "source": [
    "big_model(X)"
   ]
  },
  {
   "cell_type": "code",
   "execution_count": 208,
   "id": "0feebdc2-a428-4176-be25-9a972e9a590f",
   "metadata": {},
   "outputs": [
    {
     "name": "stdout",
     "output_type": "stream",
     "text": [
      "Parameter containing:\n",
      "tensor([[-0.3256, -0.4611]], requires_grad=True)\n",
      "Parameter containing:\n",
      "tensor([-0.0198], requires_grad=True)\n"
     ]
    }
   ],
   "source": [
    "for param in big_model.parameters():\n",
    "    print(param)"
   ]
  },
  {
   "cell_type": "code",
   "execution_count": 214,
   "id": "2c1dc63c-7021-4460-a0a6-2a55515b71b8",
   "metadata": {
    "scrolled": true,
    "tags": []
   },
   "outputs": [
    {
     "name": "stdout",
     "output_type": "stream",
     "text": [
      "epoch 100: loss 0.53\n",
      "epoch 200: loss 0.53\n",
      "epoch 300: loss 0.53\n",
      "epoch 400: loss 0.53\n",
      "epoch 500: loss 0.53\n",
      "epoch 600: loss 0.53\n",
      "epoch 700: loss 0.53\n",
      "epoch 800: loss 0.53\n",
      "epoch 900: loss 0.53\n",
      "epoch 1000: loss 0.53\n",
      "epoch 1100: loss 0.53\n",
      "epoch 1200: loss 0.53\n",
      "epoch 1300: loss 0.53\n",
      "epoch 1400: loss 0.53\n",
      "epoch 1500: loss 0.53\n",
      "epoch 1600: loss 0.53\n",
      "epoch 1700: loss 0.53\n",
      "epoch 1800: loss 0.53\n",
      "epoch 1900: loss 0.53\n",
      "epoch 2000: loss 0.53\n",
      "epoch 2100: loss 0.53\n",
      "epoch 2200: loss 0.53\n",
      "epoch 2300: loss 0.53\n",
      "epoch 2400: loss 0.53\n",
      "epoch 2500: loss 0.53\n",
      "epoch 2600: loss 0.53\n",
      "epoch 2700: loss 0.53\n",
      "epoch 2800: loss 0.53\n",
      "epoch 2900: loss 0.53\n",
      "epoch 3000: loss 0.53\n",
      "epoch 3100: loss 0.53\n",
      "epoch 3200: loss 0.53\n",
      "epoch 3300: loss 0.53\n",
      "epoch 3400: loss 0.53\n",
      "epoch 3500: loss 0.53\n",
      "epoch 3600: loss 0.53\n",
      "epoch 3700: loss 0.53\n",
      "epoch 3800: loss 0.53\n",
      "epoch 3900: loss 0.53\n",
      "epoch 4000: loss 0.53\n",
      "epoch 4100: loss 0.53\n",
      "epoch 4200: loss 0.53\n",
      "epoch 4300: loss 0.53\n",
      "epoch 4400: loss 0.53\n",
      "epoch 4500: loss 0.53\n",
      "epoch 4600: loss 0.53\n",
      "epoch 4700: loss 0.53\n",
      "epoch 4800: loss 0.53\n",
      "epoch 4900: loss 0.53\n",
      "epoch 5000: loss 0.53\n"
     ]
    }
   ],
   "source": [
    "optimizer = torch.optim.Adam(big_model.parameters(), lr = 0.01)\n",
    "criterion = torch.nn.BCELoss()\n",
    "#criterion = torch.nn.MSELoss()\n",
    "n_epochs = 5000\n",
    "for i in range(1, n_epochs+1):\n",
    "    optimizer.zero_grad()\n",
    "    pred3 = big_model(X)\n",
    "    loss = criterion(pred3, y)\n",
    "    loss.backward()\n",
    "    optimizer.step()\n",
    "    if i % 100 == 0:\n",
    "        print(f'epoch {i}: loss {loss:.2f}')"
   ]
  },
  {
   "cell_type": "code",
   "execution_count": 215,
   "id": "7609fd9a-5cd4-4a5f-9c41-b19fda07f03c",
   "metadata": {},
   "outputs": [
    {
     "data": {
      "text/plain": [
       "tensor([[0.0553],\n",
       "        [0.6107],\n",
       "        [0.5998],\n",
       "        [0.7702],\n",
       "        [0.5934],\n",
       "        [0.7702],\n",
       "        [0.7700],\n",
       "        [0.8313]], grad_fn=<SigmoidBackward0>)"
      ]
     },
     "execution_count": 215,
     "metadata": {},
     "output_type": "execute_result"
    }
   ],
   "source": [
    "pred3"
   ]
  },
  {
   "cell_type": "code",
   "execution_count": 216,
   "id": "798a15fb-72c7-46d2-9dcc-07d8a53f97f9",
   "metadata": {},
   "outputs": [
    {
     "data": {
      "text/plain": [
       "tensor([[0.2151],\n",
       "        [0.5000],\n",
       "        [0.5000],\n",
       "        [0.7849],\n",
       "        [0.5000],\n",
       "        [0.7849],\n",
       "        [0.7849],\n",
       "        [0.9302]], grad_fn=<SigmoidBackward0>)"
      ]
     },
     "execution_count": 216,
     "metadata": {},
     "output_type": "execute_result"
    }
   ],
   "source": [
    "output"
   ]
  },
  {
   "cell_type": "code",
   "execution_count": 213,
   "id": "a832bb7f-605c-4f4b-8f0c-7ad93d75e1ed",
   "metadata": {},
   "outputs": [
    {
     "data": {
      "text/plain": [
       "tensor([[0.],\n",
       "        [0.],\n",
       "        [1.],\n",
       "        [1.],\n",
       "        [1.],\n",
       "        [1.],\n",
       "        [0.],\n",
       "        [1.]])"
      ]
     },
     "execution_count": 213,
     "metadata": {},
     "output_type": "execute_result"
    }
   ],
   "source": [
    "y"
   ]
  },
  {
   "cell_type": "code",
   "execution_count": 217,
   "id": "7caf890e-0a9f-48ff-aaa8-0317b9978618",
   "metadata": {},
   "outputs": [
    {
     "data": {
      "text/plain": [
       "tensor([[6.0751e-03],\n",
       "        [6.7796e-06],\n",
       "        [1.1657e-04],\n",
       "        [1.2932e-07],\n",
       "        [1.8024e-04],\n",
       "        [1.9996e-07],\n",
       "        [3.4386e-06],\n",
       "        [3.8141e-09]])"
      ]
     },
     "execution_count": 217,
     "metadata": {},
     "output_type": "execute_result"
    }
   ],
   "source": [
    "model2(X)"
   ]
  }
 ],
 "metadata": {
  "kernelspec": {
   "display_name": "Python 3",
   "language": "python",
   "name": "python3"
  },
  "language_info": {
   "codemirror_mode": {
    "name": "ipython",
    "version": 3
   },
   "file_extension": ".py",
   "mimetype": "text/x-python",
   "name": "python",
   "nbconvert_exporter": "python",
   "pygments_lexer": "ipython3",
   "version": "3.7.9"
  }
 },
 "nbformat": 4,
 "nbformat_minor": 5
}

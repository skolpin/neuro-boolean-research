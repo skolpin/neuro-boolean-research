{
 "cells": [
  {
   "cell_type": "markdown",
   "id": "4b8ade06-15d3-4feb-957b-40723527efa1",
   "metadata": {
    "tags": []
   },
   "source": [
    "# Импорты и функции"
   ]
  },
  {
   "cell_type": "code",
   "execution_count": 1,
   "id": "f9ec5eb2-3cbe-4652-9d78-2bb72d039795",
   "metadata": {},
   "outputs": [],
   "source": [
    "import numpy as np\n",
    "import pandas as pd\n",
    "import torch\n",
    "from torch import nn\n",
    "import random\n",
    "from tqdm import tqdm\n",
    "import seaborn as sns\n",
    "import matplotlib.pyplot as plt\n",
    "\n",
    "def set_random_seed(seed):\n",
    "    torch.manual_seed(seed)\n",
    "    torch.cuda.manual_seed(seed)\n",
    "    np.random.seed(seed)\n",
    "    random.seed(seed)\n",
    "    torch.backends.cudnn.deterministic = True\n",
    "\n",
    "# device = 'cuda' if torch.cuda.is_available() else 'cpu'\n",
    "device = 'cpu'\n",
    "\n",
    "def set_random_seed(seed):\n",
    "    torch.manual_seed(seed)\n",
    "    torch.cuda.manual_seed(seed)\n",
    "    torch.backends.cudnn.deterministic = True\n",
    "    torch.backends.cudnn.benchmark = False\n",
    "    np.random.seed(seed)\n",
    "    random.seed(seed)"
   ]
  },
  {
   "cell_type": "code",
   "execution_count": 2,
   "id": "82e93260-1815-4f14-8723-b6ce10d3ab0d",
   "metadata": {},
   "outputs": [],
   "source": [
    "def dec2bin(x, n=7):\n",
    "    \"\"\"\n",
    "    creating a binary list of integer non-negative x\n",
    "    \"\"\"\n",
    "    u = 2 ** n - 1\n",
    "    x = int(x)\n",
    "    assert x >= 0, 'Input value x must be non-negative'\n",
    "    assert x <= u, f'Input value x with n = {n} must be less than {u}'\n",
    "    \n",
    "    y = []\n",
    "    if x == 0:\n",
    "        for i in range(n):\n",
    "            y.append(0)\n",
    "    else:\n",
    "        while x != 1:\n",
    "            y.append(x % 2)\n",
    "            x = x // 2\n",
    "        y.append(x)\n",
    "        delta = n - len(y)\n",
    "        for i in range(delta):\n",
    "            y.append(0)\n",
    "        y.reverse()\n",
    "    return y"
   ]
  },
  {
   "cell_type": "code",
   "execution_count": 3,
   "id": "db837d9c-04b2-41e5-8ee4-e615959b4efc",
   "metadata": {},
   "outputs": [],
   "source": [
    "def get_all_X(n_inputs):\n",
    "    \"\"\"\n",
    "    for given number of variables returns\n",
    "    all binary combinations of these variables\n",
    "    \"\"\"\n",
    "    X = []\n",
    "    for i in range(2**n_inputs):\n",
    "        X += [dec2bin(i, n=n_inputs)]\n",
    "    X = np.array(X)\n",
    "    return X"
   ]
  },
  {
   "cell_type": "code",
   "execution_count": 4,
   "id": "40a2cedd-519d-4d14-bce2-4e612aa608d8",
   "metadata": {},
   "outputs": [],
   "source": [
    "def random_boolfunc(n_inputs):\n",
    "    \"\"\"\n",
    "    for given number of variables returns\n",
    "    the truth table, where output is random binary vector\n",
    "    \"\"\"\n",
    "    X = get_all_X(n_inputs)\n",
    "    y = np.random.randint(0, 2, size=(2**n_inputs, 1))\n",
    "    return X, y\n",
    "   \n",
    "def _and(n_inputs=2):\n",
    "    \"\"\"\n",
    "    for given number of variables returns\n",
    "    the truth table of AND logical gate\n",
    "    \"\"\"\n",
    "    X = get_all_X(n_inputs)\n",
    "    y = np.append(\n",
    "        np.zeros(shape=(2 ** n_inputs - 1, 1), dtype=int),\n",
    "        np.array([[1]]),\n",
    "        axis=0\n",
    "    )\n",
    "    return X, y\n",
    "    \n",
    "def _or(n_inputs=2):\n",
    "    \"\"\"\n",
    "    for given number of variables returns\n",
    "    the truth table of OR logical gate\n",
    "    \"\"\"\n",
    "    X = get_all_X(n_inputs)\n",
    "    y = np.append(\n",
    "        np.array([[0]]),\n",
    "        np.ones(shape=(2 ** n_inputs - 1, 1), dtype=int),\n",
    "        axis=0\n",
    "    )\n",
    "    return X, y\n",
    "\n",
    "def _xor(n_inputs=2):\n",
    "    \"\"\"\n",
    "    for given number of variables returns\n",
    "    the truth table of XOR logical gate\n",
    "    \"\"\"\n",
    "    X = get_all_X(n_inputs)\n",
    "    y = (np.sum(X, axis=1) % 2).reshape(-1, 1)\n",
    "    return X, y\n",
    "\n",
    "def get_certain_boolfunc(function_number, n_inputs):\n",
    "    \"\"\"\n",
    "    for given function_number and number of variables returns\n",
    "    the truth table, where output is binary representation of function_number\n",
    "    \n",
    "    NOTE: function_number MUST BE NOT MORE THAN 2^(2^n_inputs)-1\n",
    "    \"\"\"\n",
    "    X = get_all_X(n_inputs)\n",
    "    try:\n",
    "        y = np.array(dec2bin(function_number, 2 ** n_inputs)).reshape(-1, 1)\n",
    "        return X, y\n",
    "    except AssertionError:\n",
    "        raise ValueError(f'Given function_number = {function_number} is more than 2 ^ (2 ^ n_inputs) - 1 = {2 ** (2 ** n_inputs) - 1}.')\n",
    "        \n",
    "\n",
    "def to_dataframe(X, y):\n",
    "    \"\"\"\n",
    "    for the truth table in form of two arrays \n",
    "    X [2 ** n_inputs, n_inputs] and y [2 ** n_inputs, 1]\n",
    "    combine it to the form of Pandas DataFrame\n",
    "    \"\"\"\n",
    "    data=np.concatenate((X, y), axis=1)\n",
    "    n_inputs = X.shape[1]\n",
    "    return pd.DataFrame(data=data, columns=[f'x{i}' for i in range(n_inputs, 0, -1)] + ['y'])"
   ]
  },
  {
   "cell_type": "code",
   "execution_count": 5,
   "id": "1415d0e8-0837-47da-b1b7-ce2121b95b60",
   "metadata": {},
   "outputs": [],
   "source": [
    "class Neuron(nn.Module):\n",
    "    def __init__(self, n_inputs, activation=nn.Sigmoid(), init_form=None):\n",
    "        super().__init__()\n",
    "        self.fc = nn.Linear(n_inputs, 1)\n",
    "        self.activation = activation\n",
    "        self.init_form = init_form\n",
    "        if init_form is not None:\n",
    "            self.init()\n",
    "    \n",
    "    def forward(self, x):\n",
    "        x = self.fc(x)\n",
    "        x = self.activation(x)\n",
    "        return x\n",
    "    \n",
    "    def init(self):\n",
    "        if self.init_form == 'normal':\n",
    "            nn.init.xavier_normal_(self.fc.weight, gain=nn.init.calculate_gain('sigmoid'))\n",
    "            nn.init.zeros_(self.fc.bias)\n",
    "        elif self.init_form == 'uniform':\n",
    "            nn.init.xavier_uniform_(self.fc.weight, gain=nn.init.calculate_gain('sigmoid'))\n",
    "            nn.init.zeros_(self.fc.bias)\n",
    "        else:\n",
    "            print('incorrect init_form')"
   ]
  },
  {
   "cell_type": "code",
   "execution_count": 6,
   "id": "a635c85e-69f4-47b8-b70f-4a137fa53568",
   "metadata": {},
   "outputs": [],
   "source": [
    "from copy import deepcopy\n",
    "\n",
    "# https://github.com/pytorch/pytorch/issues/36459#:~:text=Here%27s%20my%20definition%3A\n",
    "\n",
    "class BigModel(nn.Module):\n",
    "    def __init__(self, base_models : list, activation=nn.Sigmoid(), init_form=None):\n",
    "        super().__init__()\n",
    "        self.base_models = nn.ModuleList(deepcopy(base_models))\n",
    "        \n",
    "        # for model in self.base_models:\n",
    "        #     for param in model.parameters():\n",
    "        #         param.requires_grad = False\n",
    "        \n",
    "        self.n_hidden = len(base_models)\n",
    "        self.fc = nn.Linear(self.n_hidden, 1)\n",
    "        self.activation = activation\n",
    "        self.merge = lambda x: torch.cat(x, dim=1)\n",
    "        self.init_form = init_form\n",
    "        if init_form is not None:\n",
    "            self.init()\n",
    "    \n",
    "    def forward(self, x):\n",
    "        hidden_out = self.merge([module(x) for module in self.base_models])\n",
    "        out = self.activation(self.fc(hidden_out))\n",
    "        \n",
    "        return out\n",
    "    \n",
    "    def init(self):\n",
    "        if self.init_form == 'normal':\n",
    "            nn.init.xavier_normal_(self.fc.weight, gain=nn.init.calculate_gain('sigmoid'))\n",
    "            nn.init.zeros_(self.fc.bias)\n",
    "        elif self.init_form == 'uniform':\n",
    "            nn.init.xavier_uniform_(self.fc.weight, gain=nn.init.calculate_gain('sigmoid'))\n",
    "            nn.init.zeros_(self.fc.bias)\n",
    "        else:\n",
    "            print('incorrect init_form')"
   ]
  },
  {
   "cell_type": "code",
   "execution_count": 7,
   "id": "f9b18cfd-6a88-4ba1-b03c-c3332a7573db",
   "metadata": {},
   "outputs": [],
   "source": [
    "def step(x):\n",
    "    return torch.heaviside(x - 0.5, torch.tensor([[1.]]))\n",
    "\n",
    "def check(model, X, y, device, verbose=True):\n",
    "    out = model(X.to(device))\n",
    "    step_out = step(out.to('cpu'))\n",
    "    mask = (step_out != y)[:,0]  \n",
    "    \n",
    "    if any(mask):\n",
    "        wrong_ans_numbers = [i for i in range(mask.shape[0]) if mask[i].item()]\n",
    "        if verbose:\n",
    "            print(f'{type(model).__name__} gives wrong answers for samples {wrong_ans_numbers}')\n",
    "        return X[mask], y[mask]\n",
    "    else:\n",
    "        if verbose:\n",
    "            print('Success!')\n",
    "        return (None, None)\n",
    "\n",
    "def train(model, X, y, epochs, device, optimizer='Adam', \n",
    "          criterion=torch.nn.BCELoss(), verbose=True, early_stopping=True):\n",
    "    \n",
    "    len_dataset = X.shape[0]\n",
    "    dataset = torch.utils.data.TensorDataset(X, y)\n",
    "    dataloader = torch.utils.data.DataLoader(dataset, batch_size=len_dataset, shuffle=True)\n",
    "    \n",
    "    if optimizer=='Adam':\n",
    "        optimizer = torch.optim.Adam(model.parameters(), lr = 0.01)\n",
    "    else:\n",
    "        print('other optimizers aren\\'t supported yet')\n",
    "    \n",
    "    break_flag = False\n",
    "    log_epoch = epochs // 10\n",
    "    history_loss = []\n",
    "    for i in range(1, epochs + 1):\n",
    "        epoch_loss = 0\n",
    "        for batch in dataloader:\n",
    "            X, y = batch\n",
    "            optimizer.zero_grad()\n",
    "            output = model(X.to(device))\n",
    "            loss = criterion(output, y.to(device))\n",
    "            loss.backward()\n",
    "            optimizer.step()\n",
    "            epoch_loss += loss.detach().cpu().item()\n",
    "            \n",
    "            if early_stopping:\n",
    "                step_out = step(output.detach().cpu())\n",
    "                if all((step_out == y)[:,0]):\n",
    "                    break_flag = True\n",
    "                    break\n",
    "                                \n",
    "        epoch_loss /= len(dataloader)\n",
    "        history_loss.append(epoch_loss)\n",
    "        if verbose and i % log_epoch == 0:\n",
    "            print(f'epoch {i}: loss {epoch_loss:.2f}')\n",
    "        if break_flag:\n",
    "            if verbose:\n",
    "                print(f'Early stopping at epoch {i}. Network is done.')\n",
    "            break\n",
    "        \n",
    "    return history_loss\n",
    "\n",
    "def plot_loss(history_loss):\n",
    "    sns.set_style('darkgrid')\n",
    "    plt.figure(figsize=(7, 5), dpi=100)\n",
    "    plt.plot(range(1, len(history_loss) + 1), history_loss)\n",
    "    plt.ylim(-0.01, max(history_loss)+0.05)\n",
    "    plt.xlabel('epochs')\n",
    "    plt.ylabel('train loss')\n",
    "    plt.show()"
   ]
  },
  {
   "cell_type": "markdown",
   "id": "dc3a224d-d17a-4c27-9a66-655ccd519380",
   "metadata": {},
   "source": [
    "# XOR(2)"
   ]
  },
  {
   "cell_type": "code",
   "execution_count": 8,
   "id": "a150877b-7eef-4b6e-bedc-a34690fa7f63",
   "metadata": {},
   "outputs": [
    {
     "data": {
      "text/html": [
       "<div>\n",
       "<style scoped>\n",
       "    .dataframe tbody tr th:only-of-type {\n",
       "        vertical-align: middle;\n",
       "    }\n",
       "\n",
       "    .dataframe tbody tr th {\n",
       "        vertical-align: top;\n",
       "    }\n",
       "\n",
       "    .dataframe thead th {\n",
       "        text-align: right;\n",
       "    }\n",
       "</style>\n",
       "<table border=\"1\" class=\"dataframe\">\n",
       "  <thead>\n",
       "    <tr style=\"text-align: right;\">\n",
       "      <th></th>\n",
       "      <th>x2</th>\n",
       "      <th>x1</th>\n",
       "      <th>y</th>\n",
       "    </tr>\n",
       "  </thead>\n",
       "  <tbody>\n",
       "    <tr>\n",
       "      <th>0</th>\n",
       "      <td>0</td>\n",
       "      <td>0</td>\n",
       "      <td>0</td>\n",
       "    </tr>\n",
       "    <tr>\n",
       "      <th>1</th>\n",
       "      <td>0</td>\n",
       "      <td>1</td>\n",
       "      <td>1</td>\n",
       "    </tr>\n",
       "    <tr>\n",
       "      <th>2</th>\n",
       "      <td>1</td>\n",
       "      <td>0</td>\n",
       "      <td>1</td>\n",
       "    </tr>\n",
       "    <tr>\n",
       "      <th>3</th>\n",
       "      <td>1</td>\n",
       "      <td>1</td>\n",
       "      <td>0</td>\n",
       "    </tr>\n",
       "  </tbody>\n",
       "</table>\n",
       "</div>"
      ],
      "text/plain": [
       "   x2  x1  y\n",
       "0   0   0  0\n",
       "1   0   1  1\n",
       "2   1   0  1\n",
       "3   1   1  0"
      ]
     },
     "execution_count": 8,
     "metadata": {},
     "output_type": "execute_result"
    }
   ],
   "source": [
    "n = 2\n",
    "X, y = _xor(n)\n",
    "to_dataframe(X, y)"
   ]
  },
  {
   "cell_type": "code",
   "execution_count": 9,
   "id": "3e34c8fc-4244-4097-9ff5-cb6caad866fe",
   "metadata": {},
   "outputs": [],
   "source": [
    "X, y = torch.Tensor(X), torch.Tensor(y)"
   ]
  },
  {
   "cell_type": "markdown",
   "id": "e20a99f3-8add-4363-8828-b3aaa7bc66d6",
   "metadata": {},
   "source": [
    "## Обучаем шаг за шагом"
   ]
  },
  {
   "cell_type": "markdown",
   "id": "1cc55774-d837-47da-a076-0e6cd58c54b7",
   "metadata": {},
   "source": [
    "### Базовый нейрон 1"
   ]
  },
  {
   "cell_type": "code",
   "execution_count": 10,
   "id": "d060a324-ea67-4370-940b-265519f71416",
   "metadata": {
    "tags": []
   },
   "outputs": [
    {
     "name": "stdout",
     "output_type": "stream",
     "text": [
      "epoch 100: loss 0.69\n",
      "epoch 200: loss 0.69\n",
      "epoch 300: loss 0.69\n",
      "epoch 400: loss 0.69\n",
      "epoch 500: loss 0.69\n",
      "epoch 600: loss 0.69\n",
      "epoch 700: loss 0.69\n",
      "epoch 800: loss 0.69\n",
      "epoch 900: loss 0.69\n",
      "epoch 1000: loss 0.69\n"
     ]
    },
    {
     "data": {
      "image/png": "[encoded data removed]",
      "text/plain": [
       "<Figure size 700x500 with 1 Axes>"
      ]
     },
     "metadata": {
      "needs_background": "light"
     },
     "output_type": "display_data"
    }
   ],
   "source": [
    "set_random_seed(42)\n",
    "neuron_1 = Neuron(n_inputs=n).to(device)\n",
    "\n",
    "h_1 = train(neuron_1, X, y, device=device, epochs=1000, early_stopping=True)\n",
    "plot_loss(h_1)"
   ]
  },
  {
   "cell_type": "code",
   "execution_count": 11,
   "id": "fcb40d52-6b8f-4777-b193-09860423363d",
   "metadata": {},
   "outputs": [
    {
     "name": "stdout",
     "output_type": "stream",
     "text": [
      "Neuron gives wrong answers for samples [0, 3]\n"
     ]
    }
   ],
   "source": [
    "X_new, y_new = check(neuron_1, X, y, device=device)"
   ]
  },
  {
   "cell_type": "markdown",
   "id": "2b6bae62-04da-47e5-87a2-7a427b97980e",
   "metadata": {},
   "source": [
    "### Базовый нейрон 2"
   ]
  },
  {
   "cell_type": "code",
   "execution_count": 12,
   "id": "07229066-7fd3-4a62-9794-3de127efeb76",
   "metadata": {
    "tags": []
   },
   "outputs": [
    {
     "name": "stdout",
     "output_type": "stream",
     "text": [
      "Early stopping at epoch 2. Network is done.\n"
     ]
    },
    {
     "data": {
      "image/png": "[encoded data removed]",
      "text/plain": [
       "<Figure size 700x500 with 1 Axes>"
      ]
     },
     "metadata": {},
     "output_type": "display_data"
    }
   ],
   "source": [
    "neuron_2 = Neuron(n_inputs=n).to(device)\n",
    "\n",
    "h_2 = train(neuron_2, X_new, y_new, device=device, epochs=1000, early_stopping=True)\n",
    "plot_loss(h_2)"
   ]
  },
  {
   "cell_type": "code",
   "execution_count": 13,
   "id": "cc0a0467-8d86-4c41-8a59-bef47f70c814",
   "metadata": {},
   "outputs": [
    {
     "name": "stdout",
     "output_type": "stream",
     "text": [
      "Success!\n"
     ]
    }
   ],
   "source": [
    "X_new2, y_new2 = check(neuron_2, X_new, y_new, device=device)"
   ]
  },
  {
   "cell_type": "markdown",
   "id": "5ca7c4d3-53e5-4f6c-8924-4ab730f78af6",
   "metadata": {},
   "source": [
    "### Большая модель"
   ]
  },
  {
   "cell_type": "code",
   "execution_count": 14,
   "id": "a51e9cee-cedd-4296-b7f1-11c301a8772f",
   "metadata": {},
   "outputs": [
    {
     "name": "stdout",
     "output_type": "stream",
     "text": [
      "Early stopping at epoch 397. Network is done.\n"
     ]
    },
    {
     "data": {
      "image/png": "[encoded data removed]",
      "text/plain": [
       "<Figure size 700x500 with 1 Axes>"
      ]
     },
     "metadata": {},
     "output_type": "display_data"
    }
   ],
   "source": [
    "big_model = BigModel([neuron_1, neuron_2]).to(device)\n",
    "\n",
    "big_h = train(big_model, X, y, device=device, epochs=5000)\n",
    "plot_loss(big_h)"
   ]
  },
  {
   "cell_type": "code",
   "execution_count": 15,
   "id": "ecd01678-225b-4f86-a1e0-02a2060b9752",
   "metadata": {},
   "outputs": [
    {
     "name": "stdout",
     "output_type": "stream",
     "text": [
      "Success!\n"
     ]
    },
    {
     "data": {
      "text/plain": [
       "(None, None)"
      ]
     },
     "execution_count": 15,
     "metadata": {},
     "output_type": "execute_result"
    }
   ],
   "source": [
    "check(big_model, X, y, device=device)"
   ]
  },
  {
   "cell_type": "markdown",
   "id": "cfecdac4-18da-4d69-84f0-0d821d462245",
   "metadata": {},
   "source": [
    "### Учим большую модель 100 раз, стартуя с пары фиксированных предобученных нейронов"
   ]
  },
  {
   "cell_type": "code",
   "execution_count": 16,
   "id": "fc24511f-17fb-4e00-87a3-c0fc25777d2d",
   "metadata": {},
   "outputs": [
    {
     "name": "stderr",
     "output_type": "stream",
     "text": [
      "100%|███████████████████████████████████████| 1000/1000 [26:33<00:00,  1.59s/it]"
     ]
    },
    {
     "name": "stdout",
     "output_type": "stream",
     "text": [
      "CPU times: user 26min 33s, sys: 555 ms, total: 26min 33s\n",
      "Wall time: 26min 33s\n"
     ]
    },
    {
     "name": "stderr",
     "output_type": "stream",
     "text": [
      "\n"
     ]
    }
   ],
   "source": [
    "%%time\n",
    "# set_random_seed(42)\n",
    "history_dict = {}\n",
    "neurons = [neuron_1, neuron_2]\n",
    "\n",
    "for i in tqdm(range(1000)):\n",
    "    \n",
    "    big_model = BigModel(neurons).to(device)\n",
    "\n",
    "    history = train(big_model, X, y, device=device, epochs=5000, verbose=False)\n",
    "    \n",
    "    result = {'history_loss': history}\n",
    "    result['history_len'] = len(history)\n",
    "    \n",
    "    if check(big_model, X, y, device=device, verbose=False)[0] is None:\n",
    "        result['success'] = True\n",
    "    else:\n",
    "        result['success'] = False\n",
    "    \n",
    "    history_dict[i+1] = result"
   ]
  },
  {
   "cell_type": "code",
   "execution_count": 17,
   "id": "76b340e8-4c01-4013-a8ca-56baa5ddbc5d",
   "metadata": {},
   "outputs": [
    {
     "data": {
      "text/html": [
       "<div>\n",
       "<style scoped>\n",
       "    .dataframe tbody tr th:only-of-type {\n",
       "        vertical-align: middle;\n",
       "    }\n",
       "\n",
       "    .dataframe tbody tr th {\n",
       "        vertical-align: top;\n",
       "    }\n",
       "\n",
       "    .dataframe thead th {\n",
       "        text-align: right;\n",
       "    }\n",
       "</style>\n",
       "<table border=\"1\" class=\"dataframe\">\n",
       "  <thead>\n",
       "    <tr style=\"text-align: right;\">\n",
       "      <th></th>\n",
       "      <th>history_loss</th>\n",
       "      <th>history_len</th>\n",
       "      <th>success</th>\n",
       "    </tr>\n",
       "  </thead>\n",
       "  <tbody>\n",
       "    <tr>\n",
       "      <th>1</th>\n",
       "      <td>[0.6944662928581238, 0.6939476132392883, 0.693...</td>\n",
       "      <td>5000</td>\n",
       "      <td>False</td>\n",
       "    </tr>\n",
       "    <tr>\n",
       "      <th>2</th>\n",
       "      <td>[0.7405696511268616, 0.7373015880584717, 0.734...</td>\n",
       "      <td>360</td>\n",
       "      <td>True</td>\n",
       "    </tr>\n",
       "    <tr>\n",
       "      <th>3</th>\n",
       "      <td>[0.7203751802444458, 0.7178704738616943, 0.715...</td>\n",
       "      <td>248</td>\n",
       "      <td>True</td>\n",
       "    </tr>\n",
       "    <tr>\n",
       "      <th>4</th>\n",
       "      <td>[0.7142845392227173, 0.7122368812561035, 0.710...</td>\n",
       "      <td>254</td>\n",
       "      <td>True</td>\n",
       "    </tr>\n",
       "    <tr>\n",
       "      <th>5</th>\n",
       "      <td>[0.7160614132881165, 0.7134830951690674, 0.711...</td>\n",
       "      <td>220</td>\n",
       "      <td>True</td>\n",
       "    </tr>\n",
       "  </tbody>\n",
       "</table>\n",
       "</div>"
      ],
      "text/plain": [
       "                                        history_loss  history_len  success\n",
       "1  [0.6944662928581238, 0.6939476132392883, 0.693...         5000    False\n",
       "2  [0.7405696511268616, 0.7373015880584717, 0.734...          360     True\n",
       "3  [0.7203751802444458, 0.7178704738616943, 0.715...          248     True\n",
       "4  [0.7142845392227173, 0.7122368812561035, 0.710...          254     True\n",
       "5  [0.7160614132881165, 0.7134830951690674, 0.711...          220     True"
      ]
     },
     "execution_count": 17,
     "metadata": {},
     "output_type": "execute_result"
    }
   ],
   "source": [
    "run_big = pd.DataFrame(history_dict).T.astype(dict(zip(history_dict[1].keys(), ['object', 'int', 'bool'])))\n",
    "counter = run_big['success'].value_counts().to_dict()\n",
    "run_big.head()"
   ]
  },
  {
   "cell_type": "code",
   "execution_count": 18,
   "id": "97bbe1b0-d10e-4735-990d-45a00df0fc4b",
   "metadata": {},
   "outputs": [
    {
     "data": {
      "image/png": "[encoded data removed]",
      "text/plain": [
       "<Figure size 700x500 with 1 Axes>"
      ]
     },
     "metadata": {},
     "output_type": "display_data"
    }
   ],
   "source": [
    "from matplotlib.patches import Patch\n",
    "from matplotlib.lines import Line2D\n",
    "legend_elements = [Line2D([0], [0], color='tab:green', label=f\"success: {counter[True]}\"),\n",
    "                   Line2D([0], [0], color='tab:red', label=f\"fail: {counter[False]}\")]\n",
    "\n",
    "\n",
    "plt.figure(figsize=(7, 5), dpi=100)\n",
    "for i in history_dict:\n",
    "    color = 'tab:green' if history_dict[i]['success'] else 'tab:red'\n",
    "    alpha = 0.8 if history_dict[i]['success'] else 0.5\n",
    "    plt.plot(history_dict[i]['history_loss'], color=color, alpha=alpha)\n",
    "plt.legend(handles=legend_elements)\n",
    "plt.ylim(-0.01)\n",
    "plt.xlabel('epochs')\n",
    "plt.ylabel('train loss')\n",
    "plt.show()"
   ]
  },
  {
   "cell_type": "code",
   "execution_count": 19,
   "id": "45bcda62-c350-46a7-b207-c0b1f79b3e76",
   "metadata": {},
   "outputs": [
    {
     "data": {
      "image/png": "[encoded data removed]",
      "text/plain": [
       "<Figure size 360x360 with 1 Axes>"
      ]
     },
     "metadata": {},
     "output_type": "display_data"
    }
   ],
   "source": [
    "plt.figure(figsize=(5,5))\n",
    "plt.pie(counter.values(), \n",
    "        labels=list(map(lambda x: 'success' if x else 'fail', counter.keys())),\n",
    "        colors=['tab:green', 'tab:red'],\n",
    "        autopct='%.0f%%',\n",
    "        textprops={'fontsize': 14})\n",
    "plt.show()"
   ]
  },
  {
   "cell_type": "code",
   "execution_count": 20,
   "id": "e0409e13-8abd-4e8f-ab96-d59c80c71e7c",
   "metadata": {},
   "outputs": [
    {
     "data": {
      "text/plain": [
       "count     609.000000\n",
       "mean      280.482759\n",
       "std       193.145066\n",
       "min        79.000000\n",
       "25%       193.000000\n",
       "50%       248.000000\n",
       "75%       331.000000\n",
       "max      3707.000000\n",
       "Name: history_len, dtype: float64"
      ]
     },
     "execution_count": 20,
     "metadata": {},
     "output_type": "execute_result"
    }
   ],
   "source": [
    "stat_big = run_big[run_big['success']]['history_len'].describe()\n",
    "stat_big"
   ]
  },
  {
   "cell_type": "code",
   "execution_count": 21,
   "id": "0e644d9f-30d1-421e-8cdd-70690822b605",
   "metadata": {},
   "outputs": [
    {
     "data": {
      "image/png": "[encoded data removed]",
      "text/plain": [
       "<Figure size 432x288 with 1 Axes>"
      ]
     },
     "metadata": {},
     "output_type": "display_data"
    }
   ],
   "source": [
    "run_big[run_big['success']]['history_len'].hist(bins=20);"
   ]
  },
  {
   "cell_type": "markdown",
   "id": "45bf33d8-e2ec-4429-8065-0ac7051514f1",
   "metadata": {},
   "source": [
    "## Обучаем сразу всю архитектуру со случайных весов"
   ]
  },
  {
   "cell_type": "markdown",
   "id": "16ee07bf-05c5-487a-b560-557930126bf9",
   "metadata": {},
   "source": [
    "### Одна сеть"
   ]
  },
  {
   "cell_type": "code",
   "execution_count": 22,
   "id": "25cfc9c6-14fa-4cfa-b782-71772e79afee",
   "metadata": {},
   "outputs": [
    {
     "name": "stdout",
     "output_type": "stream",
     "text": [
      "Early stopping at epoch 394. Network is done.\n"
     ]
    },
    {
     "data": {
      "image/png": "[encoded data removed]",
      "text/plain": [
       "<Figure size 700x500 with 1 Axes>"
      ]
     },
     "metadata": {},
     "output_type": "display_data"
    }
   ],
   "source": [
    "set_random_seed(42)\n",
    "neurons = [Neuron(n_inputs=2) for _ in range(2)]\n",
    "mlp = BigModel(neurons).to(device)\n",
    "\n",
    "h_mlp = train(mlp, X, y, device=device, epochs=5000)\n",
    "plot_loss(h_mlp)"
   ]
  },
  {
   "cell_type": "code",
   "execution_count": 23,
   "id": "9d73013c-50e3-48a1-bba1-8b5d36695072",
   "metadata": {},
   "outputs": [
    {
     "name": "stdout",
     "output_type": "stream",
     "text": [
      "Success!\n"
     ]
    },
    {
     "data": {
      "text/plain": [
       "(None, None)"
      ]
     },
     "execution_count": 23,
     "metadata": {},
     "output_type": "execute_result"
    }
   ],
   "source": [
    "check(mlp, X, y, device=device)"
   ]
  },
  {
   "cell_type": "markdown",
   "id": "c119e5e0-497e-4e17-bd50-70644ccf96fa",
   "metadata": {},
   "source": [
    "### Учим MLP 100 раз стартуя полностью со случайных весов"
   ]
  },
  {
   "cell_type": "code",
   "execution_count": 24,
   "id": "c450d6ea-ba3c-4d41-b257-3541224bfd96",
   "metadata": {},
   "outputs": [
    {
     "name": "stderr",
     "output_type": "stream",
     "text": [
      "100%|███████████████████████████████████████| 1000/1000 [28:50<00:00,  1.73s/it]"
     ]
    },
    {
     "name": "stdout",
     "output_type": "stream",
     "text": [
      "CPU times: user 28min 50s, sys: 408 ms, total: 28min 50s\n",
      "Wall time: 28min 50s\n"
     ]
    },
    {
     "name": "stderr",
     "output_type": "stream",
     "text": [
      "\n"
     ]
    }
   ],
   "source": [
    "%%time\n",
    "set_random_seed(42)\n",
    "history_dict = {}\n",
    "neurons = [Neuron(n_inputs=2) for _ in range(2)]\n",
    "\n",
    "for i in tqdm(range(1000)):\n",
    "    \n",
    "    # neurons = [Neuron(n_inputs=2) for _ in range(2)]\n",
    "    mlp = BigModel(neurons).to(device)\n",
    "    \n",
    "    history = train(mlp, X, y, device=device, epochs=5000, verbose=False)\n",
    "    \n",
    "    result = {'history_loss': history}\n",
    "    result['history_len'] = len(history) \n",
    "    \n",
    "    if check(mlp, X, y, device=device, verbose=False)[0] is None:\n",
    "        result['success'] = True\n",
    "    else:\n",
    "        result['success'] = False\n",
    "    \n",
    "    history_dict[i+1] = result"
   ]
  },
  {
   "cell_type": "code",
   "execution_count": 25,
   "id": "1e739b94-36e0-4ab2-9504-53703f92b4fe",
   "metadata": {},
   "outputs": [
    {
     "data": {
      "text/html": [
       "<div>\n",
       "<style scoped>\n",
       "    .dataframe tbody tr th:only-of-type {\n",
       "        vertical-align: middle;\n",
       "    }\n",
       "\n",
       "    .dataframe tbody tr th {\n",
       "        vertical-align: top;\n",
       "    }\n",
       "\n",
       "    .dataframe thead th {\n",
       "        text-align: right;\n",
       "    }\n",
       "</style>\n",
       "<table border=\"1\" class=\"dataframe\">\n",
       "  <thead>\n",
       "    <tr style=\"text-align: right;\">\n",
       "      <th></th>\n",
       "      <th>history_loss</th>\n",
       "      <th>history_len</th>\n",
       "      <th>success</th>\n",
       "    </tr>\n",
       "  </thead>\n",
       "  <tbody>\n",
       "    <tr>\n",
       "      <th>1</th>\n",
       "      <td>[0.7484376430511475, 0.7445095777511597, 0.740...</td>\n",
       "      <td>394</td>\n",
       "      <td>True</td>\n",
       "    </tr>\n",
       "    <tr>\n",
       "      <th>2</th>\n",
       "      <td>[0.706904411315918, 0.7050159573554993, 0.7032...</td>\n",
       "      <td>5000</td>\n",
       "      <td>False</td>\n",
       "    </tr>\n",
       "    <tr>\n",
       "      <th>3</th>\n",
       "      <td>[0.7475990056991577, 0.7437108159065247, 0.739...</td>\n",
       "      <td>5000</td>\n",
       "      <td>False</td>\n",
       "    </tr>\n",
       "    <tr>\n",
       "      <th>4</th>\n",
       "      <td>[0.7868783473968506, 0.7817860245704651, 0.776...</td>\n",
       "      <td>5000</td>\n",
       "      <td>False</td>\n",
       "    </tr>\n",
       "    <tr>\n",
       "      <th>5</th>\n",
       "      <td>[0.7166040539741516, 0.7138755917549133, 0.711...</td>\n",
       "      <td>5000</td>\n",
       "      <td>False</td>\n",
       "    </tr>\n",
       "  </tbody>\n",
       "</table>\n",
       "</div>"
      ],
      "text/plain": [
       "                                        history_loss  history_len  success\n",
       "1  [0.7484376430511475, 0.7445095777511597, 0.740...          394     True\n",
       "2  [0.706904411315918, 0.7050159573554993, 0.7032...         5000    False\n",
       "3  [0.7475990056991577, 0.7437108159065247, 0.739...         5000    False\n",
       "4  [0.7868783473968506, 0.7817860245704651, 0.776...         5000    False\n",
       "5  [0.7166040539741516, 0.7138755917549133, 0.711...         5000    False"
      ]
     },
     "execution_count": 25,
     "metadata": {},
     "output_type": "execute_result"
    }
   ],
   "source": [
    "run_mlp = pd.DataFrame(history_dict).T.astype(dict(zip(history_dict[1].keys(), ['object', 'int', 'bool'])))\n",
    "counter = run_mlp['success'].value_counts().to_dict()\n",
    "run_mlp.head()"
   ]
  },
  {
   "cell_type": "code",
   "execution_count": 26,
   "id": "06d501f1-4b5e-4e99-95a5-687882d99826",
   "metadata": {},
   "outputs": [
    {
     "data": {
      "image/png": "[encoded data removed]",
      "text/plain": [
       "<Figure size 700x500 with 1 Axes>"
      ]
     },
     "metadata": {},
     "output_type": "display_data"
    }
   ],
   "source": [
    "from matplotlib.patches import Patch\n",
    "from matplotlib.lines import Line2D\n",
    "legend_elements = [Line2D([0], [0], color='tab:green', label=f\"success: {counter[True]}\"),\n",
    "                   Line2D([0], [0], color='tab:red', label=f\"fail: {counter[False]}\")]\n",
    "\n",
    "\n",
    "plt.figure(figsize=(7, 5), dpi=100)\n",
    "for i in history_dict:\n",
    "    color = 'tab:green' if history_dict[i]['success'] else 'tab:red'\n",
    "    alpha = 0.8 if history_dict[i]['success'] else 0.5\n",
    "    plt.plot(history_dict[i]['history_loss'], color=color, alpha=alpha)\n",
    "plt.legend(handles=legend_elements)\n",
    "plt.ylim(-0.01)\n",
    "plt.xlabel('epochs')\n",
    "plt.ylabel('train loss')\n",
    "plt.show()"
   ]
  },
  {
   "cell_type": "code",
   "execution_count": 27,
   "id": "cd3d2f30-d84d-42c6-8332-d96d0999e912",
   "metadata": {},
   "outputs": [
    {
     "data": {
      "image/png": "[encoded data removed]",
      "text/plain": [
       "<Figure size 360x360 with 1 Axes>"
      ]
     },
     "metadata": {},
     "output_type": "display_data"
    }
   ],
   "source": [
    "plt.figure(figsize=(5,5))\n",
    "plt.pie(counter.values(), \n",
    "        labels=list(map(lambda x: 'success' if x else 'fail', counter.keys())),\n",
    "        colors=['tab:green', 'tab:red'],\n",
    "        autopct='%.0f%%',\n",
    "        textprops={'fontsize': 14})\n",
    "plt.show()"
   ]
  },
  {
   "cell_type": "code",
   "execution_count": 28,
   "id": "a0ba3e1f-64c6-4f74-82cc-6c73aab7fb9e",
   "metadata": {},
   "outputs": [
    {
     "data": {
      "text/plain": [
       "count     576.000000\n",
       "mean      359.164931\n",
       "std       289.703583\n",
       "min       111.000000\n",
       "25%       219.000000\n",
       "50%       300.500000\n",
       "75%       398.500000\n",
       "max      4921.000000\n",
       "Name: history_len, dtype: float64"
      ]
     },
     "execution_count": 28,
     "metadata": {},
     "output_type": "execute_result"
    }
   ],
   "source": [
    "stat_mlp = run_mlp[run_mlp['success']]['history_len'].describe()\n",
    "stat_mlp"
   ]
  },
  {
   "cell_type": "code",
   "execution_count": 29,
   "id": "270a8938-193e-4f28-841d-cec8cda930b0",
   "metadata": {},
   "outputs": [
    {
     "data": {
      "image/png": "[encoded data removed]",
      "text/plain": [
       "<Figure size 432x288 with 1 Axes>"
      ]
     },
     "metadata": {},
     "output_type": "display_data"
    }
   ],
   "source": [
    "run_mlp[run_mlp['success']]['history_len'].hist(bins=30);"
   ]
  },
  {
   "cell_type": "code",
   "execution_count": 30,
   "id": "31c24768-68c8-4eed-956b-e2915dac622f",
   "metadata": {},
   "outputs": [
    {
     "data": {
      "text/html": [
       "<div>\n",
       "<style scoped>\n",
       "    .dataframe tbody tr th:only-of-type {\n",
       "        vertical-align: middle;\n",
       "    }\n",
       "\n",
       "    .dataframe tbody tr th {\n",
       "        vertical-align: top;\n",
       "    }\n",
       "\n",
       "    .dataframe thead th {\n",
       "        text-align: right;\n",
       "    }\n",
       "</style>\n",
       "<table border=\"1\" class=\"dataframe\">\n",
       "  <thead>\n",
       "    <tr style=\"text-align: right;\">\n",
       "      <th></th>\n",
       "      <th>big_model</th>\n",
       "      <th>mlp</th>\n",
       "    </tr>\n",
       "  </thead>\n",
       "  <tbody>\n",
       "    <tr>\n",
       "      <th>count</th>\n",
       "      <td>609.000000</td>\n",
       "      <td>576.000000</td>\n",
       "    </tr>\n",
       "    <tr>\n",
       "      <th>mean</th>\n",
       "      <td>280.482759</td>\n",
       "      <td>359.164931</td>\n",
       "    </tr>\n",
       "    <tr>\n",
       "      <th>std</th>\n",
       "      <td>193.145066</td>\n",
       "      <td>289.703583</td>\n",
       "    </tr>\n",
       "    <tr>\n",
       "      <th>min</th>\n",
       "      <td>79.000000</td>\n",
       "      <td>111.000000</td>\n",
       "    </tr>\n",
       "    <tr>\n",
       "      <th>25%</th>\n",
       "      <td>193.000000</td>\n",
       "      <td>219.000000</td>\n",
       "    </tr>\n",
       "    <tr>\n",
       "      <th>50%</th>\n",
       "      <td>248.000000</td>\n",
       "      <td>300.500000</td>\n",
       "    </tr>\n",
       "    <tr>\n",
       "      <th>75%</th>\n",
       "      <td>331.000000</td>\n",
       "      <td>398.500000</td>\n",
       "    </tr>\n",
       "    <tr>\n",
       "      <th>max</th>\n",
       "      <td>3707.000000</td>\n",
       "      <td>4921.000000</td>\n",
       "    </tr>\n",
       "  </tbody>\n",
       "</table>\n",
       "</div>"
      ],
      "text/plain": [
       "         big_model          mlp\n",
       "count   609.000000   576.000000\n",
       "mean    280.482759   359.164931\n",
       "std     193.145066   289.703583\n",
       "min      79.000000   111.000000\n",
       "25%     193.000000   219.000000\n",
       "50%     248.000000   300.500000\n",
       "75%     331.000000   398.500000\n",
       "max    3707.000000  4921.000000"
      ]
     },
     "execution_count": 30,
     "metadata": {},
     "output_type": "execute_result"
    }
   ],
   "source": [
    "stat = pd.DataFrame(data={'big_model':stat_big, 'mlp':stat_mlp},\n",
    "                    index = stat_big.index)\n",
    "stat"
   ]
  },
  {
   "cell_type": "code",
   "execution_count": 31,
   "id": "cbd95ad0-fb9f-4168-8f49-b99767404459",
   "metadata": {},
   "outputs": [],
   "source": [
    "run_big.to_csv('run_big_1000.csv', index=False)\n",
    "run_mlp.to_csv('run_mlp_1000.csv', index=False)"
   ]
  },
  {
   "cell_type": "markdown",
   "id": "a2c1f545-79ad-4e6a-9c57-349527cc7a9a",
   "metadata": {},
   "source": [
    "## Пишем алгоритм синтеза и запускаем 1000 раз"
   ]
  },
  {
   "cell_type": "code",
   "execution_count": 32,
   "id": "469499af-021a-4a14-9376-fe9af5c19e5b",
   "metadata": {},
   "outputs": [],
   "source": [
    "def incremental_synthesis(X, y):\n",
    "    global n, device\n",
    "    \n",
    "    neuron_1 = Neuron(n_inputs=n).to(device)\n",
    "    h_1 = train(neuron_1, X, y, device=device, epochs=1000, verbose=False, early_stopping=True)\n",
    "    X_new, y_new = check(neuron_1, X, y, device=device, verbose=False)\n",
    "    \n",
    "    neuron_2 = Neuron(n_inputs=n).to(device)\n",
    "    h_2 = train(neuron_2, X_new, y_new, device=device, epochs=1000, verbose=False, early_stopping=True)\n",
    "    X_new2, y_new2 = check(neuron_2, X_new, y_new, device=device, verbose=False)\n",
    "    \n",
    "    if X_new2 is not None:\n",
    "        print('something went wrong')\n",
    "    else:\n",
    "        big_model = BigModel([neuron_1, neuron_2]).to(device)\n",
    "\n",
    "        big_h = train(big_model, X, y, device=device, verbose=False, epochs=5000, early_stopping=True)\n",
    "        \n",
    "        return big_model, h_1, h_2, big_h"
   ]
  },
  {
   "cell_type": "code",
   "execution_count": 33,
   "id": "14f74ddb-53a8-40c4-ba5e-b56c60264cc0",
   "metadata": {},
   "outputs": [
    {
     "name": "stderr",
     "output_type": "stream",
     "text": [
      "100%|███████████████████████████████████████| 1000/1000 [25:32<00:00,  1.53s/it]"
     ]
    },
    {
     "name": "stdout",
     "output_type": "stream",
     "text": [
      "CPU times: user 25min 32s, sys: 392 ms, total: 25min 32s\n",
      "Wall time: 25min 32s\n"
     ]
    },
    {
     "name": "stderr",
     "output_type": "stream",
     "text": [
      "\n"
     ]
    }
   ],
   "source": [
    "%%time\n",
    "set_random_seed(42)\n",
    "history_dict = {}\n",
    "\n",
    "for i in tqdm(range(1000)):\n",
    "    \n",
    "    big_model, h_1, h_2, big_h = incremental_synthesis(X, y)\n",
    "    \n",
    "    \n",
    "    result = {'history_1': h_1,\n",
    "              'history_1_len': len(h_1), \n",
    "              'history_2': h_2,\n",
    "              'history_2_len': len(h_2),\n",
    "              'history_loss': big_h,\n",
    "              'history_len': len(big_h)\n",
    "             }\n",
    "        \n",
    "    if check(big_model, X, y, device=device, verbose=False)[0] is None:\n",
    "        result['success'] = True\n",
    "    else:\n",
    "        result['success'] = False\n",
    "    \n",
    "    history_dict[i+1] = result"
   ]
  },
  {
   "cell_type": "code",
   "execution_count": 34,
   "id": "08d929f2-2cf9-4aa1-9f71-0c8f5bdc3345",
   "metadata": {},
   "outputs": [],
   "source": [
    "dtypes = {'history_1': 'object', 'history_2': 'object', 'history_loss': 'object', \n",
    "          'history_1_len': 'int', 'history_2_len': 'int', 'history_len': 'int', \n",
    "          'success': 'bool'}"
   ]
  },
  {
   "cell_type": "code",
   "execution_count": 35,
   "id": "e7e5ff0c-1674-49f8-bd88-1cab4189afee",
   "metadata": {},
   "outputs": [
    {
     "data": {
      "text/html": [
       "<div>\n",
       "<style scoped>\n",
       "    .dataframe tbody tr th:only-of-type {\n",
       "        vertical-align: middle;\n",
       "    }\n",
       "\n",
       "    .dataframe tbody tr th {\n",
       "        vertical-align: top;\n",
       "    }\n",
       "\n",
       "    .dataframe thead th {\n",
       "        text-align: right;\n",
       "    }\n",
       "</style>\n",
       "<table border=\"1\" class=\"dataframe\">\n",
       "  <thead>\n",
       "    <tr style=\"text-align: right;\">\n",
       "      <th></th>\n",
       "      <th>history_1</th>\n",
       "      <th>history_1_len</th>\n",
       "      <th>history_2</th>\n",
       "      <th>history_2_len</th>\n",
       "      <th>history_loss</th>\n",
       "      <th>history_len</th>\n",
       "      <th>success</th>\n",
       "    </tr>\n",
       "  </thead>\n",
       "  <tbody>\n",
       "    <tr>\n",
       "      <th>1</th>\n",
       "      <td>[0.7317379117012024, 0.7292325496673584, 0.726...</td>\n",
       "      <td>1000</td>\n",
       "      <td>[0.5635437965393066, 0.5558428764343262]</td>\n",
       "      <td>2</td>\n",
       "      <td>[0.7457013726234436, 0.7422260046005249, 0.738...</td>\n",
       "      <td>397</td>\n",
       "      <td>True</td>\n",
       "    </tr>\n",
       "    <tr>\n",
       "      <th>2</th>\n",
       "      <td>[0.7035096883773804, 0.7030255794525146, 0.702...</td>\n",
       "      <td>1000</td>\n",
       "      <td>[0.5252398252487183]</td>\n",
       "      <td>1</td>\n",
       "      <td>[0.7621124982833862, 0.7578240633010864, 0.753...</td>\n",
       "      <td>484</td>\n",
       "      <td>True</td>\n",
       "    </tr>\n",
       "    <tr>\n",
       "      <th>3</th>\n",
       "      <td>[0.6974889039993286, 0.6968131065368652, 0.696...</td>\n",
       "      <td>1000</td>\n",
       "      <td>[1.1946455240249634, 1.1800942420959473, 1.165...</td>\n",
       "      <td>45</td>\n",
       "      <td>[0.6931638717651367, 0.6931713223457336, 0.693...</td>\n",
       "      <td>72</td>\n",
       "      <td>True</td>\n",
       "    </tr>\n",
       "    <tr>\n",
       "      <th>4</th>\n",
       "      <td>[0.7190742492675781, 0.7178514003753662, 0.716...</td>\n",
       "      <td>1000</td>\n",
       "      <td>[1.1120662689208984, 1.0982091426849365, 1.084...</td>\n",
       "      <td>47</td>\n",
       "      <td>[0.7374168634414673, 0.733866274356842, 0.7304...</td>\n",
       "      <td>372</td>\n",
       "      <td>True</td>\n",
       "    </tr>\n",
       "    <tr>\n",
       "      <th>5</th>\n",
       "      <td>[0.7274385690689087, 0.7248880863189697, 0.722...</td>\n",
       "      <td>1000</td>\n",
       "      <td>[0.8623527884483337, 0.8502408266067505, 0.838...</td>\n",
       "      <td>22</td>\n",
       "      <td>[0.7525873184204102, 0.7489070892333984, 0.745...</td>\n",
       "      <td>357</td>\n",
       "      <td>True</td>\n",
       "    </tr>\n",
       "  </tbody>\n",
       "</table>\n",
       "</div>"
      ],
      "text/plain": [
       "                                           history_1  history_1_len  \\\n",
       "1  [0.7317379117012024, 0.7292325496673584, 0.726...           1000   \n",
       "2  [0.7035096883773804, 0.7030255794525146, 0.702...           1000   \n",
       "3  [0.6974889039993286, 0.6968131065368652, 0.696...           1000   \n",
       "4  [0.7190742492675781, 0.7178514003753662, 0.716...           1000   \n",
       "5  [0.7274385690689087, 0.7248880863189697, 0.722...           1000   \n",
       "\n",
       "                                           history_2  history_2_len  \\\n",
       "1           [0.5635437965393066, 0.5558428764343262]              2   \n",
       "2                               [0.5252398252487183]              1   \n",
       "3  [1.1946455240249634, 1.1800942420959473, 1.165...             45   \n",
       "4  [1.1120662689208984, 1.0982091426849365, 1.084...             47   \n",
       "5  [0.8623527884483337, 0.8502408266067505, 0.838...             22   \n",
       "\n",
       "                                        history_loss  history_len  success  \n",
       "1  [0.7457013726234436, 0.7422260046005249, 0.738...          397     True  \n",
       "2  [0.7621124982833862, 0.7578240633010864, 0.753...          484     True  \n",
       "3  [0.6931638717651367, 0.6931713223457336, 0.693...           72     True  \n",
       "4  [0.7374168634414673, 0.733866274356842, 0.7304...          372     True  \n",
       "5  [0.7525873184204102, 0.7489070892333984, 0.745...          357     True  "
      ]
     },
     "execution_count": 35,
     "metadata": {},
     "output_type": "execute_result"
    }
   ],
   "source": [
    "run_is = pd.DataFrame(history_dict).T.astype(dtypes)\n",
    "counter = run_is['success'].value_counts().to_dict()\n",
    "run_is.head()"
   ]
  },
  {
   "cell_type": "code",
   "execution_count": 36,
   "id": "a84c2699-f015-4d3f-8ca5-f8eb6ed2c3a6",
   "metadata": {},
   "outputs": [
    {
     "data": {
      "image/png": "[encoded data removed]",
      "text/plain": [
       "<Figure size 700x500 with 1 Axes>"
      ]
     },
     "metadata": {},
     "output_type": "display_data"
    }
   ],
   "source": [
    "from matplotlib.patches import Patch\n",
    "from matplotlib.lines import Line2D\n",
    "legend_elements = [Line2D([0], [0], color='tab:green', label=f\"success: {counter[True]}\"),\n",
    "                   Line2D([0], [0], color='tab:red', label=f\"fail: {counter[False]}\")]\n",
    "\n",
    "\n",
    "plt.figure(figsize=(7, 5), dpi=100)\n",
    "for i in history_dict:\n",
    "    color = 'tab:green' if history_dict[i]['success'] else 'tab:red'\n",
    "    alpha = 0.8 if history_dict[i]['success'] else 0.5\n",
    "    plt.plot(history_dict[i]['history_loss'], color=color, alpha=alpha)\n",
    "plt.legend(handles=legend_elements)\n",
    "plt.ylim(-0.01)\n",
    "plt.xlabel('epochs')\n",
    "plt.ylabel('train loss')\n",
    "plt.show()"
   ]
  },
  {
   "cell_type": "code",
   "execution_count": 37,
   "id": "b35b91cc-f37c-462c-99d8-cc99e6baef27",
   "metadata": {},
   "outputs": [
    {
     "data": {
      "image/png": "[encoded data removed]",
      "text/plain": [
       "<Figure size 360x360 with 1 Axes>"
      ]
     },
     "metadata": {},
     "output_type": "display_data"
    }
   ],
   "source": [
    "plt.figure(figsize=(5,5))\n",
    "plt.pie(counter.values(), \n",
    "        labels=list(map(lambda x: 'success' if x else 'fail', counter.keys())),\n",
    "        colors=['tab:green', 'tab:red'],\n",
    "        autopct='%.0f%%',\n",
    "        textprops={'fontsize': 14})\n",
    "plt.show()"
   ]
  },
  {
   "cell_type": "code",
   "execution_count": 38,
   "id": "b9bea443-8705-4c7e-a34c-c25a8e688944",
   "metadata": {},
   "outputs": [
    {
     "data": {
      "text/plain": [
       "count     760.000000\n",
       "mean      282.313158\n",
       "std       137.280780\n",
       "min        62.000000\n",
       "25%       182.000000\n",
       "50%       264.000000\n",
       "75%       353.500000\n",
       "max      1200.000000\n",
       "Name: history_len, dtype: float64"
      ]
     },
     "execution_count": 38,
     "metadata": {},
     "output_type": "execute_result"
    }
   ],
   "source": [
    "stat_is = run_is[run_is['success']]['history_len'].describe()\n",
    "stat_is"
   ]
  },
  {
   "cell_type": "code",
   "execution_count": 39,
   "id": "ed54f621-a0f8-4889-9a85-e39b55ba272b",
   "metadata": {},
   "outputs": [
    {
     "data": {
      "image/png": "[encoded data removed]",
      "text/plain": [
       "<Figure size 432x288 with 1 Axes>"
      ]
     },
     "metadata": {},
     "output_type": "display_data"
    }
   ],
   "source": [
    "run_is[run_is['success']]['history_len'].hist(bins=30);"
   ]
  },
  {
   "cell_type": "code",
   "execution_count": 40,
   "id": "43518ff8-004b-4bf6-b73e-b6ea97f9c477",
   "metadata": {},
   "outputs": [
    {
     "data": {
      "text/html": [
       "<div>\n",
       "<style scoped>\n",
       "    .dataframe tbody tr th:only-of-type {\n",
       "        vertical-align: middle;\n",
       "    }\n",
       "\n",
       "    .dataframe tbody tr th {\n",
       "        vertical-align: top;\n",
       "    }\n",
       "\n",
       "    .dataframe thead th {\n",
       "        text-align: right;\n",
       "    }\n",
       "</style>\n",
       "<table border=\"1\" class=\"dataframe\">\n",
       "  <thead>\n",
       "    <tr style=\"text-align: right;\">\n",
       "      <th></th>\n",
       "      <th>big_model</th>\n",
       "      <th>mlp</th>\n",
       "      <th>is</th>\n",
       "    </tr>\n",
       "  </thead>\n",
       "  <tbody>\n",
       "    <tr>\n",
       "      <th>count</th>\n",
       "      <td>609.000000</td>\n",
       "      <td>576.000000</td>\n",
       "      <td>760.000000</td>\n",
       "    </tr>\n",
       "    <tr>\n",
       "      <th>mean</th>\n",
       "      <td>280.482759</td>\n",
       "      <td>359.164931</td>\n",
       "      <td>282.313158</td>\n",
       "    </tr>\n",
       "    <tr>\n",
       "      <th>std</th>\n",
       "      <td>193.145066</td>\n",
       "      <td>289.703583</td>\n",
       "      <td>137.280780</td>\n",
       "    </tr>\n",
       "    <tr>\n",
       "      <th>min</th>\n",
       "      <td>79.000000</td>\n",
       "      <td>111.000000</td>\n",
       "      <td>62.000000</td>\n",
       "    </tr>\n",
       "    <tr>\n",
       "      <th>25%</th>\n",
       "      <td>193.000000</td>\n",
       "      <td>219.000000</td>\n",
       "      <td>182.000000</td>\n",
       "    </tr>\n",
       "    <tr>\n",
       "      <th>50%</th>\n",
       "      <td>248.000000</td>\n",
       "      <td>300.500000</td>\n",
       "      <td>264.000000</td>\n",
       "    </tr>\n",
       "    <tr>\n",
       "      <th>75%</th>\n",
       "      <td>331.000000</td>\n",
       "      <td>398.500000</td>\n",
       "      <td>353.500000</td>\n",
       "    </tr>\n",
       "    <tr>\n",
       "      <th>max</th>\n",
       "      <td>3707.000000</td>\n",
       "      <td>4921.000000</td>\n",
       "      <td>1200.000000</td>\n",
       "    </tr>\n",
       "  </tbody>\n",
       "</table>\n",
       "</div>"
      ],
      "text/plain": [
       "         big_model          mlp           is\n",
       "count   609.000000   576.000000   760.000000\n",
       "mean    280.482759   359.164931   282.313158\n",
       "std     193.145066   289.703583   137.280780\n",
       "min      79.000000   111.000000    62.000000\n",
       "25%     193.000000   219.000000   182.000000\n",
       "50%     248.000000   300.500000   264.000000\n",
       "75%     331.000000   398.500000   353.500000\n",
       "max    3707.000000  4921.000000  1200.000000"
      ]
     },
     "execution_count": 40,
     "metadata": {},
     "output_type": "execute_result"
    }
   ],
   "source": [
    "stat = pd.DataFrame(data={'big_model':stat_big, 'mlp':stat_mlp, 'is': stat_is},\n",
    "                    index = stat_big.index)\n",
    "stat"
   ]
  },
  {
   "cell_type": "code",
   "execution_count": 43,
   "id": "1c971814-f075-4a5e-a458-9836fc593b41",
   "metadata": {},
   "outputs": [],
   "source": [
    "run_big.to_parquet('run_big_1000.parquet', index=False)\n",
    "run_mlp.to_csv('run_mlp_1000.parquet', index=False)\n",
    "run_is.to_csv('run_is_1000.parquet', index=False)"
   ]
  },
  {
   "cell_type": "markdown",
   "id": "2c5c1fac-b7d9-4e3f-9375-4f294801f9ef",
   "metadata": {},
   "source": [
    "# XOR(4)"
   ]
  },
  {
   "cell_type": "code",
   "execution_count": 51,
   "id": "0995fa10-6298-45cf-a7fd-382d7540612e",
   "metadata": {},
   "outputs": [
    {
     "data": {
      "text/html": [
       "<div>\n",
       "<style scoped>\n",
       "    .dataframe tbody tr th:only-of-type {\n",
       "        vertical-align: middle;\n",
       "    }\n",
       "\n",
       "    .dataframe tbody tr th {\n",
       "        vertical-align: top;\n",
       "    }\n",
       "\n",
       "    .dataframe thead th {\n",
       "        text-align: right;\n",
       "    }\n",
       "</style>\n",
       "<table border=\"1\" class=\"dataframe\">\n",
       "  <thead>\n",
       "    <tr style=\"text-align: right;\">\n",
       "      <th></th>\n",
       "      <th>x4</th>\n",
       "      <th>x3</th>\n",
       "      <th>x2</th>\n",
       "      <th>x1</th>\n",
       "      <th>y</th>\n",
       "    </tr>\n",
       "  </thead>\n",
       "  <tbody>\n",
       "    <tr>\n",
       "      <th>0</th>\n",
       "      <td>0</td>\n",
       "      <td>0</td>\n",
       "      <td>0</td>\n",
       "      <td>0</td>\n",
       "      <td>0</td>\n",
       "    </tr>\n",
       "    <tr>\n",
       "      <th>1</th>\n",
       "      <td>0</td>\n",
       "      <td>0</td>\n",
       "      <td>0</td>\n",
       "      <td>1</td>\n",
       "      <td>1</td>\n",
       "    </tr>\n",
       "    <tr>\n",
       "      <th>2</th>\n",
       "      <td>0</td>\n",
       "      <td>0</td>\n",
       "      <td>1</td>\n",
       "      <td>0</td>\n",
       "      <td>1</td>\n",
       "    </tr>\n",
       "    <tr>\n",
       "      <th>3</th>\n",
       "      <td>0</td>\n",
       "      <td>0</td>\n",
       "      <td>1</td>\n",
       "      <td>1</td>\n",
       "      <td>0</td>\n",
       "    </tr>\n",
       "    <tr>\n",
       "      <th>4</th>\n",
       "      <td>0</td>\n",
       "      <td>1</td>\n",
       "      <td>0</td>\n",
       "      <td>0</td>\n",
       "      <td>1</td>\n",
       "    </tr>\n",
       "    <tr>\n",
       "      <th>5</th>\n",
       "      <td>0</td>\n",
       "      <td>1</td>\n",
       "      <td>0</td>\n",
       "      <td>1</td>\n",
       "      <td>0</td>\n",
       "    </tr>\n",
       "    <tr>\n",
       "      <th>6</th>\n",
       "      <td>0</td>\n",
       "      <td>1</td>\n",
       "      <td>1</td>\n",
       "      <td>0</td>\n",
       "      <td>0</td>\n",
       "    </tr>\n",
       "    <tr>\n",
       "      <th>7</th>\n",
       "      <td>0</td>\n",
       "      <td>1</td>\n",
       "      <td>1</td>\n",
       "      <td>1</td>\n",
       "      <td>1</td>\n",
       "    </tr>\n",
       "    <tr>\n",
       "      <th>8</th>\n",
       "      <td>1</td>\n",
       "      <td>0</td>\n",
       "      <td>0</td>\n",
       "      <td>0</td>\n",
       "      <td>1</td>\n",
       "    </tr>\n",
       "    <tr>\n",
       "      <th>9</th>\n",
       "      <td>1</td>\n",
       "      <td>0</td>\n",
       "      <td>0</td>\n",
       "      <td>1</td>\n",
       "      <td>0</td>\n",
       "    </tr>\n",
       "    <tr>\n",
       "      <th>10</th>\n",
       "      <td>1</td>\n",
       "      <td>0</td>\n",
       "      <td>1</td>\n",
       "      <td>0</td>\n",
       "      <td>0</td>\n",
       "    </tr>\n",
       "    <tr>\n",
       "      <th>11</th>\n",
       "      <td>1</td>\n",
       "      <td>0</td>\n",
       "      <td>1</td>\n",
       "      <td>1</td>\n",
       "      <td>1</td>\n",
       "    </tr>\n",
       "    <tr>\n",
       "      <th>12</th>\n",
       "      <td>1</td>\n",
       "      <td>1</td>\n",
       "      <td>0</td>\n",
       "      <td>0</td>\n",
       "      <td>0</td>\n",
       "    </tr>\n",
       "    <tr>\n",
       "      <th>13</th>\n",
       "      <td>1</td>\n",
       "      <td>1</td>\n",
       "      <td>0</td>\n",
       "      <td>1</td>\n",
       "      <td>1</td>\n",
       "    </tr>\n",
       "    <tr>\n",
       "      <th>14</th>\n",
       "      <td>1</td>\n",
       "      <td>1</td>\n",
       "      <td>1</td>\n",
       "      <td>0</td>\n",
       "      <td>1</td>\n",
       "    </tr>\n",
       "    <tr>\n",
       "      <th>15</th>\n",
       "      <td>1</td>\n",
       "      <td>1</td>\n",
       "      <td>1</td>\n",
       "      <td>1</td>\n",
       "      <td>0</td>\n",
       "    </tr>\n",
       "  </tbody>\n",
       "</table>\n",
       "</div>"
      ],
      "text/plain": [
       "    x4  x3  x2  x1  y\n",
       "0    0   0   0   0  0\n",
       "1    0   0   0   1  1\n",
       "2    0   0   1   0  1\n",
       "3    0   0   1   1  0\n",
       "4    0   1   0   0  1\n",
       "5    0   1   0   1  0\n",
       "6    0   1   1   0  0\n",
       "7    0   1   1   1  1\n",
       "8    1   0   0   0  1\n",
       "9    1   0   0   1  0\n",
       "10   1   0   1   0  0\n",
       "11   1   0   1   1  1\n",
       "12   1   1   0   0  0\n",
       "13   1   1   0   1  1\n",
       "14   1   1   1   0  1\n",
       "15   1   1   1   1  0"
      ]
     },
     "metadata": {},
     "output_type": "display_data"
    }
   ],
   "source": [
    "n = 4\n",
    "# set_random_seed(23) # just for get a complex random function\n",
    "# X, y = random_boolfunc(n_inputs=n)\n",
    "X, y = _xor(n)\n",
    "display(to_dataframe(X, y))\n",
    "X, y = torch.Tensor(X), torch.Tensor(y)\n"
   ]
  },
  {
   "cell_type": "code",
   "execution_count": 18,
   "id": "5f6f478d-243b-4740-a679-f2ad989233ff",
   "metadata": {},
   "outputs": [
    {
     "name": "stdout",
     "output_type": "stream",
     "text": [
      "Neuron gives wrong answers for samples [0, 3, 5, 6, 9, 10, 12, 15]\n",
      "Success!\n",
      "BigModel gives wrong answers for samples [7, 11, 13, 14]\n"
     ]
    }
   ],
   "source": [
    "neurons = []\n",
    "current_neuron = Neuron(n_inputs=n, activation=nn.Sigmoid()).to(device)\n",
    "\n",
    "train(current_neuron, X, y, device=device, epochs=5000, verbose=False)\n",
    "\n",
    "X_new, y_new = check(current_neuron, X, y, device=device)\n",
    "\n",
    "if X_new is None:\n",
    "    result_model = current_neuron\n",
    "    print(result_model)\n",
    "\n",
    "else:\n",
    "    neurons.append(deepcopy(current_neuron))\n",
    "    \n",
    "    while X_new is not None:\n",
    "        \n",
    "        current_neuron = Neuron(n_inputs=n, activation=nn.Sigmoid()).to(device)\n",
    "\n",
    "        train(current_neuron, X_new, y_new, device=device, epochs=5000, verbose=False)\n",
    "\n",
    "        X_new, y_new = check(current_neuron, X_new, y_new, device=device)\n",
    "        \n",
    "        neurons.append(deepcopy(current_neuron))\n",
    "    \n",
    "    # neurons.append(Neuron(n_inputs=n, activation=nn.ReLU()))\n",
    "    # neurons.append(Neuron(n_inputs=n))\n",
    "    \n",
    "    big_model = BigModel(neurons, activation=nn.Sigmoid()).to(device)\n",
    "    \n",
    "    train(big_model, X, y, device=device, epochs=100000, verbose=False)\n",
    "    \n",
    "    check(big_model, X, y, device=device)\n",
    "    \n",
    "    result_model = deepcopy(big_model)"
   ]
  },
  {
   "cell_type": "code",
   "execution_count": 19,
   "id": "961c59ab-30f0-4bf3-8837-056ddea5af84",
   "metadata": {},
   "outputs": [
    {
     "name": "stdout",
     "output_type": "stream",
     "text": [
      "BigModel gives wrong answers for samples [7, 11, 13, 14]\n"
     ]
    },
    {
     "data": {
      "text/plain": [
       "(tensor([[0., 1., 1., 1.],\n",
       "         [1., 0., 1., 1.],\n",
       "         [1., 1., 0., 1.],\n",
       "         [1., 1., 1., 0.]]),\n",
       " tensor([[1.],\n",
       "         [1.],\n",
       "         [1.],\n",
       "         [1.]]))"
      ]
     },
     "execution_count": 19,
     "metadata": {},
     "output_type": "execute_result"
    }
   ],
   "source": [
    "check(result_model, X, y, device=device)"
   ]
  },
  {
   "cell_type": "code",
   "execution_count": 20,
   "id": "5aa16a1d-981a-4c1c-9131-b1020adb5d55",
   "metadata": {},
   "outputs": [
    {
     "data": {
      "text/plain": [
       "BigModel(\n",
       "  (base_models): ModuleList(\n",
       "    (0): Neuron(\n",
       "      (fc): Linear(in_features=4, out_features=1, bias=True)\n",
       "      (activation): Sigmoid()\n",
       "    )\n",
       "    (1): Neuron(\n",
       "      (fc): Linear(in_features=4, out_features=1, bias=True)\n",
       "      (activation): Sigmoid()\n",
       "    )\n",
       "  )\n",
       "  (fc): Linear(in_features=2, out_features=1, bias=True)\n",
       "  (activation): Sigmoid()\n",
       ")"
      ]
     },
     "execution_count": 20,
     "metadata": {},
     "output_type": "execute_result"
    }
   ],
   "source": [
    "result_model"
   ]
  },
  {
   "cell_type": "code",
   "execution_count": 21,
   "id": "93850902-89f4-4170-ad50-27121d8b4d43",
   "metadata": {},
   "outputs": [
    {
     "data": {
      "text/plain": [
       "tensor([[0.3636]], grad_fn=<SigmoidBackward0>)"
      ]
     },
     "execution_count": 21,
     "metadata": {},
     "output_type": "execute_result"
    }
   ],
   "source": [
    "result_model(X[15:16])"
   ]
  },
  {
   "cell_type": "markdown",
   "id": "f7f578c6-a1bf-4a5c-84fb-b6e3e2c44d87",
   "metadata": {},
   "source": [
    "# Эксперимент 1. XOR(4) vs Algorithm\n",
    "Учим XOR(4) по алгоритму. З модели, каждая учится 100 раз\n",
    "* из 2 предобученных нейронов\n",
    "* 2 предобученных + 1 случайный (экстра-нейрон)\n",
    "* 2 предобученных + 2 случайных\n",
    "* 2 предобученных + 3 случайных\n",
    "\n",
    "Также для сравнения перебираем три формы инициализации: дефолтную, Ксавье-нормальную, Ксавье-равномерную "
   ]
  },
  {
   "cell_type": "code",
   "execution_count": 22,
   "id": "90e18854-d0ef-4aa0-88ab-fb86593f0188",
   "metadata": {},
   "outputs": [],
   "source": [
    "def experiment_1(X, y, init_form, num_extra_neurons, num_runs):\n",
    "    counter = {'success':0, 'fail':0}\n",
    "\n",
    "    for _ in tqdm(range(num_runs)):\n",
    "\n",
    "        neurons = []\n",
    "        current_neuron = Neuron(n_inputs=n, activation=nn.Sigmoid(), init_form=init_form).to(device)\n",
    "\n",
    "        train(current_neuron, X, y, device=device, epochs=5000, verbose=False)\n",
    "\n",
    "        X_new, y_new = check(current_neuron, X, y, device=device, verbose=False)\n",
    "\n",
    "        if X_new is None:\n",
    "            result_model = current_neuron\n",
    "            print(result_model)\n",
    "\n",
    "        else:\n",
    "            neurons.append(deepcopy(current_neuron))\n",
    "\n",
    "            while X_new is not None:\n",
    "\n",
    "                current_neuron = Neuron(n_inputs=n, activation=nn.Sigmoid(), init_form=init_form).to(device)\n",
    "\n",
    "                train(current_neuron, X_new, y_new, device=device, epochs=5000, verbose=False)\n",
    "\n",
    "                X_new, y_new = check(current_neuron, X_new, y_new, device=device, verbose=False)\n",
    "\n",
    "                neurons.append(deepcopy(current_neuron))\n",
    "\n",
    "            for extra in range(num_extra_neurons):\n",
    "                neurons.append(Neuron(n_inputs=n, activation=nn.Sigmoid(), init_form=init_form).to(device))\n",
    "\n",
    "            big_model = BigModel(neurons, activation=nn.Sigmoid(), init_form=init_form).to(device)\n",
    "\n",
    "            train(big_model, X, y, device=device, epochs=100000, verbose=False)\n",
    "\n",
    "            check(big_model, X, y, device=device, verbose=False)\n",
    "\n",
    "            result_model = deepcopy(big_model)\n",
    "\n",
    "        if check(result_model, X, y, device=device, verbose=False)[0] is None:\n",
    "            counter['success'] += 1\n",
    "        else:\n",
    "            counter['fail'] += 1\n",
    "        \n",
    "    return result_model, counter"
   ]
  },
  {
   "cell_type": "code",
   "execution_count": 23,
   "id": "4f718e35-2bc9-410e-872f-befaa25e7763",
   "metadata": {},
   "outputs": [
    {
     "name": "stdout",
     "output_type": "stream",
     "text": [
      "None init\n",
      "    0 extra neurons\n"
     ]
    },
    {
     "name": "stderr",
     "output_type": "stream",
     "text": [
      "100%|███████████████████████████████████████| 100/100 [1:49:49<00:00, 65.90s/it]\n"
     ]
    },
    {
     "name": "stdout",
     "output_type": "stream",
     "text": [
      "    {'success': 0, 'fail': 100}\n",
      "    1 extra neurons\n"
     ]
    },
    {
     "name": "stderr",
     "output_type": "stream",
     "text": [
      "100%|███████████████████████████████████████| 100/100 [2:05:59<00:00, 75.59s/it]\n"
     ]
    },
    {
     "name": "stdout",
     "output_type": "stream",
     "text": [
      "    {'success': 39, 'fail': 61}\n",
      "    2 extra neurons\n"
     ]
    },
    {
     "name": "stderr",
     "output_type": "stream",
     "text": [
      "100%|███████████████████████████████████████| 100/100 [2:22:06<00:00, 85.27s/it]\n"
     ]
    },
    {
     "name": "stdout",
     "output_type": "stream",
     "text": [
      "    {'success': 88, 'fail': 12}\n",
      "    3 extra neurons\n"
     ]
    },
    {
     "name": "stderr",
     "output_type": "stream",
     "text": [
      "100%|███████████████████████████████████████| 100/100 [2:38:17<00:00, 94.98s/it]\n"
     ]
    },
    {
     "name": "stdout",
     "output_type": "stream",
     "text": [
      "    {'success': 98, 'fail': 2}\n",
      "normal init\n",
      "    0 extra neurons\n"
     ]
    },
    {
     "name": "stderr",
     "output_type": "stream",
     "text": [
      "100%|███████████████████████████████████████| 100/100 [1:50:03<00:00, 66.03s/it]\n"
     ]
    },
    {
     "name": "stdout",
     "output_type": "stream",
     "text": [
      "    {'success': 0, 'fail': 100}\n",
      "    1 extra neurons\n"
     ]
    },
    {
     "name": "stderr",
     "output_type": "stream",
     "text": [
      "100%|███████████████████████████████████████| 100/100 [2:06:06<00:00, 75.66s/it]\n"
     ]
    },
    {
     "name": "stdout",
     "output_type": "stream",
     "text": [
      "    {'success': 55, 'fail': 45}\n",
      "    2 extra neurons\n"
     ]
    },
    {
     "name": "stderr",
     "output_type": "stream",
     "text": [
      "100%|███████████████████████████████████████| 100/100 [2:22:09<00:00, 85.29s/it]\n"
     ]
    },
    {
     "name": "stdout",
     "output_type": "stream",
     "text": [
      "    {'success': 85, 'fail': 15}\n",
      "    3 extra neurons\n"
     ]
    },
    {
     "name": "stderr",
     "output_type": "stream",
     "text": [
      "100%|███████████████████████████████████████| 100/100 [2:42:16<00:00, 97.37s/it]\n"
     ]
    },
    {
     "name": "stdout",
     "output_type": "stream",
     "text": [
      "    {'success': 93, 'fail': 7}\n",
      "uniform init\n",
      "    0 extra neurons\n"
     ]
    },
    {
     "name": "stderr",
     "output_type": "stream",
     "text": [
      "100%|███████████████████████████████████████| 100/100 [1:53:28<00:00, 68.09s/it]\n"
     ]
    },
    {
     "name": "stdout",
     "output_type": "stream",
     "text": [
      "    {'success': 0, 'fail': 100}\n",
      "    1 extra neurons\n"
     ]
    },
    {
     "name": "stderr",
     "output_type": "stream",
     "text": [
      "100%|███████████████████████████████████████| 100/100 [2:06:35<00:00, 75.95s/it]\n"
     ]
    },
    {
     "name": "stdout",
     "output_type": "stream",
     "text": [
      "    {'success': 52, 'fail': 48}\n",
      "    2 extra neurons\n"
     ]
    },
    {
     "name": "stderr",
     "output_type": "stream",
     "text": [
      "100%|███████████████████████████████████████| 100/100 [2:23:09<00:00, 85.90s/it]\n"
     ]
    },
    {
     "name": "stdout",
     "output_type": "stream",
     "text": [
      "    {'success': 85, 'fail': 15}\n",
      "    3 extra neurons\n"
     ]
    },
    {
     "name": "stderr",
     "output_type": "stream",
     "text": [
      "100%|███████████████████████████████████████| 100/100 [2:37:54<00:00, 94.74s/it]"
     ]
    },
    {
     "name": "stdout",
     "output_type": "stream",
     "text": [
      "    {'success': 88, 'fail': 12}\n",
      "CPU times: user 1d 2h 57min 53s, sys: 756 ms, total: 1d 2h 57min 54s\n",
      "Wall time: 1d 2h 57min 56s\n"
     ]
    },
    {
     "name": "stderr",
     "output_type": "stream",
     "text": [
      "\n"
     ]
    }
   ],
   "source": [
    "%%time\n",
    "results_dict = {'Extra neurons':[0, 1, 2, 3],  \n",
    "                'None':[],\n",
    "                'normal':[],\n",
    "                'uniform':[]}\n",
    "for init_form in [None, 'normal', 'uniform']:\n",
    "    print(f'{init_form} init')\n",
    "    for num_extra_neurons in results_dict['Extra neurons']:\n",
    "        print(f'    {num_extra_neurons} extra neurons')\n",
    "        _, counter = experiment_1(X, y, init_form=init_form,\n",
    "                                  num_extra_neurons=num_extra_neurons, num_runs=100)\n",
    "        print(f'    {counter}')\n",
    "        results_dict[str(init_form)].append(counter['success'])"
   ]
  },
  {
   "cell_type": "markdown",
   "id": "edc07fa5-fbaa-4792-98aa-5b93074fc809",
   "metadata": {},
   "source": [
    "# Результаты, выводы"
   ]
  },
  {
   "cell_type": "code",
   "execution_count": 24,
   "id": "9703239d-6c87-4b6b-b5ea-74a54697042f",
   "metadata": {},
   "outputs": [
    {
     "data": {
      "text/html": [
       "<div>\n",
       "<style scoped>\n",
       "    .dataframe tbody tr th:only-of-type {\n",
       "        vertical-align: middle;\n",
       "    }\n",
       "\n",
       "    .dataframe tbody tr th {\n",
       "        vertical-align: top;\n",
       "    }\n",
       "\n",
       "    .dataframe thead th {\n",
       "        text-align: right;\n",
       "    }\n",
       "</style>\n",
       "<table border=\"1\" class=\"dataframe\">\n",
       "  <thead>\n",
       "    <tr style=\"text-align: right;\">\n",
       "      <th></th>\n",
       "      <th>Extra neurons</th>\n",
       "      <th>None</th>\n",
       "      <th>normal</th>\n",
       "      <th>uniform</th>\n",
       "    </tr>\n",
       "  </thead>\n",
       "  <tbody>\n",
       "    <tr>\n",
       "      <th>0</th>\n",
       "      <td>0</td>\n",
       "      <td>0</td>\n",
       "      <td>0</td>\n",
       "      <td>0</td>\n",
       "    </tr>\n",
       "    <tr>\n",
       "      <th>1</th>\n",
       "      <td>1</td>\n",
       "      <td>39</td>\n",
       "      <td>55</td>\n",
       "      <td>52</td>\n",
       "    </tr>\n",
       "    <tr>\n",
       "      <th>2</th>\n",
       "      <td>2</td>\n",
       "      <td>88</td>\n",
       "      <td>85</td>\n",
       "      <td>85</td>\n",
       "    </tr>\n",
       "    <tr>\n",
       "      <th>3</th>\n",
       "      <td>3</td>\n",
       "      <td>98</td>\n",
       "      <td>93</td>\n",
       "      <td>88</td>\n",
       "    </tr>\n",
       "  </tbody>\n",
       "</table>\n",
       "</div>"
      ],
      "text/plain": [
       "   Extra neurons  None  normal  uniform\n",
       "0              0     0       0        0\n",
       "1              1    39      55       52\n",
       "2              2    88      85       85\n",
       "3              3    98      93       88"
      ]
     },
     "execution_count": 24,
     "metadata": {},
     "output_type": "execute_result"
    }
   ],
   "source": [
    "pd.DataFrame(results_dict)"
   ]
  },
  {
   "cell_type": "markdown",
   "id": "dd0be141-33ed-4a82-99b5-dbbf8e83f54a",
   "metadata": {},
   "source": [
    "* Добавление всего одного экстра-нейрона, инициализированного со случайными весами, позволяет сети учиться. \n",
    "* Чем больше добавляем экстра-нейронов, тем более вероятно обучение завершится успехом.\n",
    "* При одном экстра-нейроне Ксавье-инициализация, что нормальная, что равномерная, повышает вероятность успешно обучиться. Но при большем числе экстра-нейронов, как будто снижает, если это можно считать статистически значимым, либо как минимум не повышает.\n",
    "* Тем не менее, думаю пока можно принять решение использовать **нормальную Ксавье-инициализацию**."
   ]
  },
  {
   "cell_type": "markdown",
   "id": "d2f4f698-bc6c-4588-bc53-f554de1c9975",
   "metadata": {},
   "source": [
    "# Эксперимент 2. Дают ли буст предобученные нейроны, или все дело только в архитектуре?\n",
    "Учим большую модель из 3 случайных нейронов и модель с 2 предобученными и 1 экстра"
   ]
  },
  {
   "cell_type": "markdown",
   "id": "9a510eb0-2bda-49b0-952d-205fcf9b0c97",
   "metadata": {},
   "source": [
    "## Большая модель из 3 случайных скрытых нейронов"
   ]
  },
  {
   "cell_type": "code",
   "execution_count": 22,
   "id": "c9d3c78a-cc61-495d-955c-4a584838fcf4",
   "metadata": {},
   "outputs": [
    {
     "name": "stdout",
     "output_type": "stream",
     "text": [
      "epoch 10000: loss 0.00\n",
      "epoch 20000: loss 0.00\n",
      "epoch 30000: loss 0.00\n",
      "epoch 40000: loss 0.00\n",
      "epoch 50000: loss 0.00\n",
      "epoch 60000: loss 0.00\n",
      "epoch 70000: loss 0.00\n",
      "epoch 80000: loss 0.00\n",
      "epoch 90000: loss 0.00\n",
      "epoch 100000: loss 0.00\n",
      "Success!\n"
     ]
    }
   ],
   "source": [
    "neurons = [Neuron(n_inputs=n, activation=nn.Sigmoid()) for _ in range(3)]\n",
    "\n",
    "big_model = BigModel(neurons, activation=nn.Sigmoid()).to(device)\n",
    "\n",
    "train(big_model, X, y, device=device, epochs=100000, verbose=True)\n",
    "\n",
    "check(big_model, X, y, device=device)\n",
    "\n",
    "result_model = deepcopy(big_model)"
   ]
  },
  {
   "cell_type": "markdown",
   "id": "50078910-9e33-42a9-b751-a79cc025ed9b",
   "metadata": {},
   "source": [
    "# Попытка 10 раз обучить модель с 3 случайными нейронами"
   ]
  },
  {
   "cell_type": "code",
   "execution_count": 26,
   "id": "7d6511a4-b447-4bd1-a790-ac6c6a0b8201",
   "metadata": {
    "scrolled": true,
    "tags": []
   },
   "outputs": [
    {
     "name": "stdout",
     "output_type": "stream",
     "text": [
      "epoch 200: loss 0.65\n",
      "epoch 400: loss 0.23\n",
      "epoch 600: loss 0.08\n",
      "epoch 800: loss 0.04\n",
      "epoch 1000: loss 0.02\n",
      "epoch 1200: loss 0.02\n",
      "epoch 1400: loss 0.01\n",
      "epoch 1600: loss 0.01\n",
      "epoch 1800: loss 0.01\n",
      "epoch 2000: loss 0.01\n",
      "Success!\n",
      "epoch 200: loss 0.63\n",
      "epoch 400: loss 0.20\n",
      "epoch 600: loss 0.08\n",
      "epoch 800: loss 0.05\n",
      "epoch 1000: loss 0.03\n",
      "epoch 1200: loss 0.02\n",
      "epoch 1400: loss 0.02\n",
      "epoch 1600: loss 0.01\n",
      "epoch 1800: loss 0.01\n",
      "epoch 2000: loss 0.01\n",
      "Success!\n",
      "epoch 200: loss 0.53\n",
      "epoch 400: loss 0.14\n",
      "epoch 600: loss 0.06\n",
      "epoch 800: loss 0.04\n",
      "epoch 1000: loss 0.03\n",
      "epoch 1200: loss 0.02\n",
      "epoch 1400: loss 0.01\n",
      "epoch 1600: loss 0.01\n",
      "epoch 1800: loss 0.01\n",
      "epoch 2000: loss 0.01\n",
      "Success!\n",
      "epoch 200: loss 0.51\n",
      "epoch 400: loss 0.14\n",
      "epoch 600: loss 0.06\n",
      "epoch 800: loss 0.04\n",
      "epoch 1000: loss 0.03\n",
      "epoch 1200: loss 0.02\n",
      "epoch 1400: loss 0.01\n",
      "epoch 1600: loss 0.01\n",
      "epoch 1800: loss 0.01\n",
      "epoch 2000: loss 0.01\n",
      "Success!\n",
      "epoch 200: loss 0.62\n",
      "epoch 400: loss 0.23\n",
      "epoch 600: loss 0.10\n",
      "epoch 800: loss 0.06\n",
      "epoch 1000: loss 0.04\n",
      "epoch 1200: loss 0.03\n",
      "epoch 1400: loss 0.02\n",
      "epoch 1600: loss 0.02\n",
      "epoch 1800: loss 0.01\n",
      "epoch 2000: loss 0.01\n",
      "Success!\n",
      "epoch 200: loss 0.50\n",
      "epoch 400: loss 0.39\n",
      "epoch 600: loss 0.37\n",
      "epoch 800: loss 0.36\n",
      "epoch 1000: loss 0.35\n",
      "epoch 1200: loss 0.35\n",
      "epoch 1400: loss 0.35\n",
      "epoch 1600: loss 0.35\n",
      "epoch 1800: loss 0.35\n",
      "epoch 2000: loss 0.35\n",
      "BigModel gives wrong answers for samples [2]\n",
      "epoch 200: loss 0.34\n",
      "epoch 400: loss 0.10\n",
      "epoch 600: loss 0.05\n",
      "epoch 800: loss 0.03\n",
      "epoch 1000: loss 0.02\n",
      "epoch 1200: loss 0.01\n",
      "epoch 1400: loss 0.01\n",
      "epoch 1600: loss 0.01\n",
      "epoch 1800: loss 0.01\n",
      "epoch 2000: loss 0.00\n",
      "Success!\n",
      "epoch 200: loss 0.43\n",
      "epoch 400: loss 0.11\n",
      "epoch 600: loss 0.04\n",
      "epoch 800: loss 0.02\n",
      "epoch 1000: loss 0.01\n",
      "epoch 1200: loss 0.01\n",
      "epoch 1400: loss 0.01\n",
      "epoch 1600: loss 0.01\n",
      "epoch 1800: loss 0.00\n",
      "epoch 2000: loss 0.00\n",
      "Success!\n",
      "epoch 200: loss 0.50\n",
      "epoch 400: loss 0.14\n",
      "epoch 600: loss 0.07\n",
      "epoch 800: loss 0.04\n",
      "epoch 1000: loss 0.03\n",
      "epoch 1200: loss 0.02\n",
      "epoch 1400: loss 0.02\n",
      "epoch 1600: loss 0.01\n",
      "epoch 1800: loss 0.01\n",
      "epoch 2000: loss 0.01\n",
      "Success!\n",
      "epoch 200: loss 0.44\n",
      "epoch 400: loss 0.11\n",
      "epoch 600: loss 0.05\n",
      "epoch 800: loss 0.03\n",
      "epoch 1000: loss 0.02\n",
      "epoch 1200: loss 0.02\n",
      "epoch 1400: loss 0.01\n",
      "epoch 1600: loss 0.01\n",
      "epoch 1800: loss 0.01\n",
      "epoch 2000: loss 0.01\n",
      "Success!\n",
      "{'success': 9, 'fail': 1}\n"
     ]
    }
   ],
   "source": [
    "counter_3_random = {'success':0, 'fail':0}\n",
    "\n",
    "for _ in range(10):\n",
    "\n",
    "    #     !!!\n",
    "    neurons = [Neuron(n_inputs=n, activation=nn.Sigmoid()) for _ in range(3)]\n",
    "\n",
    "    big_model = BigModel(neurons, activation=nn.Sigmoid()).to(device)\n",
    "\n",
    "    train(big_model, X, y, device=device, epochs=2000, verbose=True)\n",
    "\n",
    "    X_new, y_new = check(big_model, X, y, device=device)\n",
    "\n",
    "    result_model = deepcopy(big_model)\n",
    "    \n",
    "    if X_new is None:\n",
    "        counter_3_random['success'] += 1\n",
    "    else:\n",
    "        counter_3_random['fail'] += 1\n",
    "\n",
    "print(counter_3_random)"
   ]
  },
  {
   "cell_type": "code",
   "execution_count": 27,
   "id": "5402d914-380e-4f4e-8bac-f0237a81a0a5",
   "metadata": {},
   "outputs": [
    {
     "name": "stdout",
     "output_type": "stream",
     "text": [
      "epoch 200: loss 0.69\n",
      "epoch 400: loss 0.69\n",
      "epoch 600: loss 0.69\n",
      "epoch 800: loss 0.53\n",
      "epoch 1000: loss 0.49\n",
      "epoch 1200: loss 0.49\n",
      "epoch 1400: loss 0.48\n",
      "epoch 1600: loss 0.48\n",
      "epoch 1800: loss 0.48\n",
      "epoch 2000: loss 0.48\n",
      "BigModel gives wrong answers for samples [1]\n",
      "epoch 200: loss 0.56\n",
      "epoch 400: loss 0.50\n",
      "epoch 600: loss 0.49\n",
      "epoch 800: loss 0.49\n",
      "epoch 1000: loss 0.48\n",
      "epoch 1200: loss 0.48\n",
      "epoch 1400: loss 0.48\n",
      "epoch 1600: loss 0.48\n",
      "epoch 1800: loss 0.48\n",
      "epoch 2000: loss 0.48\n",
      "BigModel gives wrong answers for samples [1]\n",
      "epoch 200: loss 0.55\n",
      "epoch 400: loss 0.50\n",
      "epoch 600: loss 0.49\n",
      "epoch 800: loss 0.48\n",
      "epoch 1000: loss 0.48\n",
      "epoch 1200: loss 0.48\n",
      "epoch 1400: loss 0.48\n",
      "epoch 1600: loss 0.48\n",
      "epoch 1800: loss 0.48\n",
      "epoch 2000: loss 0.48\n",
      "BigModel gives wrong answers for samples [2]\n",
      "epoch 200: loss 0.69\n",
      "epoch 400: loss 0.51\n",
      "epoch 600: loss 0.49\n",
      "epoch 800: loss 0.48\n",
      "epoch 1000: loss 0.48\n",
      "epoch 1200: loss 0.48\n",
      "epoch 1400: loss 0.48\n",
      "epoch 1600: loss 0.48\n",
      "epoch 1800: loss 0.48\n",
      "epoch 2000: loss 0.48\n",
      "BigModel gives wrong answers for samples [3]\n",
      "epoch 200: loss 0.56\n",
      "epoch 400: loss 0.50\n",
      "epoch 600: loss 0.49\n",
      "epoch 800: loss 0.49\n",
      "epoch 1000: loss 0.48\n",
      "epoch 1200: loss 0.48\n",
      "epoch 1400: loss 0.48\n",
      "epoch 1600: loss 0.48\n",
      "epoch 1800: loss 0.48\n",
      "epoch 2000: loss 0.48\n",
      "BigModel gives wrong answers for samples [3]\n",
      "epoch 200: loss 0.68\n",
      "epoch 400: loss 0.54\n",
      "epoch 600: loss 0.50\n",
      "epoch 800: loss 0.49\n",
      "epoch 1000: loss 0.49\n",
      "epoch 1200: loss 0.48\n",
      "epoch 1400: loss 0.48\n",
      "epoch 1600: loss 0.48\n",
      "epoch 1800: loss 0.48\n",
      "epoch 2000: loss 0.48\n",
      "BigModel gives wrong answers for samples [3]\n",
      "epoch 200: loss 0.55\n",
      "epoch 400: loss 0.50\n",
      "epoch 600: loss 0.49\n",
      "epoch 800: loss 0.48\n",
      "epoch 1000: loss 0.48\n",
      "epoch 1200: loss 0.48\n",
      "epoch 1400: loss 0.48\n",
      "epoch 1600: loss 0.48\n",
      "epoch 1800: loss 0.48\n",
      "epoch 2000: loss 0.48\n",
      "BigModel gives wrong answers for samples [1]\n",
      "epoch 200: loss 0.55\n",
      "epoch 400: loss 0.50\n",
      "epoch 600: loss 0.49\n",
      "epoch 800: loss 0.48\n",
      "epoch 1000: loss 0.48\n",
      "epoch 1200: loss 0.48\n",
      "epoch 1400: loss 0.48\n",
      "epoch 1600: loss 0.48\n",
      "epoch 1800: loss 0.48\n",
      "epoch 2000: loss 0.48\n",
      "BigModel gives wrong answers for samples [3]\n",
      "epoch 200: loss 0.54\n",
      "epoch 400: loss 0.50\n",
      "epoch 600: loss 0.49\n",
      "epoch 800: loss 0.49\n",
      "epoch 1000: loss 0.48\n",
      "epoch 1200: loss 0.48\n",
      "epoch 1400: loss 0.48\n",
      "epoch 1600: loss 0.48\n",
      "epoch 1800: loss 0.48\n",
      "epoch 2000: loss 0.48\n",
      "BigModel gives wrong answers for samples [1]\n",
      "epoch 200: loss 0.56\n",
      "epoch 400: loss 0.51\n",
      "epoch 600: loss 0.49\n",
      "epoch 800: loss 0.49\n",
      "epoch 1000: loss 0.48\n",
      "epoch 1200: loss 0.48\n",
      "epoch 1400: loss 0.48\n",
      "epoch 1600: loss 0.48\n",
      "epoch 1800: loss 0.48\n",
      "epoch 2000: loss 0.48\n",
      "BigModel gives wrong answers for samples [2]\n",
      "{'success': 0, 'fail': 10}\n"
     ]
    }
   ],
   "source": [
    "counter_3_random_bad = {'success':0, 'fail':0}\n",
    "\n",
    "for _ in range(10):\n",
    "\n",
    "    #     !!!\n",
    "    neurons = [Neuron(n_inputs=n, activation=nn.Sigmoid())] * 3\n",
    "\n",
    "    big_model = BigModel(neurons, activation=nn.Sigmoid()).to(device)\n",
    "\n",
    "    train(big_model, X, y, device=device, epochs=2000, verbose=True)\n",
    "\n",
    "    X_new, y_new = check(big_model, X, y, device=device)\n",
    "\n",
    "    result_model = deepcopy(big_model)\n",
    "    \n",
    "    if X_new is None:\n",
    "        counter_3_random_bad['success'] += 1\n",
    "    else:\n",
    "        counter_3_random_bad['fail'] += 1\n",
    "\n",
    "print(counter_3_random_bad)"
   ]
  },
  {
   "cell_type": "code",
   "execution_count": 34,
   "id": "d024d155-5269-4463-a746-d750a6e95ca2",
   "metadata": {},
   "outputs": [
    {
     "name": "stdout",
     "output_type": "stream",
     "text": [
      "1995343191688\n",
      "1995343191688\n",
      "1995343191688\n",
      "Parameter containing:\n",
      "tensor([[ 9.0889, -8.3191]], requires_grad=True)\n",
      "Parameter containing:\n",
      "tensor([[ 9.0889, -8.3191]], requires_grad=True)\n",
      "Parameter containing:\n",
      "tensor([[ 9.0889, -8.3191]], requires_grad=True)\n",
      "Parameter containing:\n",
      "tensor([[-2.3849, -2.3189, -3.2634]], requires_grad=True)\n"
     ]
    }
   ],
   "source": [
    "print(id(result_model.base_models[0]))\n",
    "print(id(result_model.base_models[1]))\n",
    "print(id(result_model.base_models[2]))\n",
    "print(result_model.base_models[0].fc.weight)\n",
    "print(result_model.base_models[1].fc.weight)\n",
    "print(result_model.base_models[2].fc.weight)\n",
    "print(result_model.fc.weight)"
   ]
  },
  {
   "cell_type": "code",
   "execution_count": 36,
   "id": "691e4fb7-d949-486a-ab41-8f5ed997a65a",
   "metadata": {},
   "outputs": [
    {
     "name": "stdout",
     "output_type": "stream",
     "text": [
      "epoch 200: loss 0.67\n",
      "epoch 400: loss 0.27\n",
      "epoch 600: loss 0.07\n",
      "epoch 800: loss 0.04\n",
      "epoch 1000: loss 0.02\n",
      "epoch 1200: loss 0.02\n",
      "epoch 1400: loss 0.01\n",
      "epoch 1600: loss 0.01\n",
      "epoch 1800: loss 0.01\n",
      "epoch 2000: loss 0.01\n",
      "epoch 200: loss 0.54\n",
      "epoch 400: loss 0.38\n",
      "epoch 600: loss 0.36\n",
      "epoch 800: loss 0.35\n",
      "epoch 1000: loss 0.35\n",
      "epoch 1200: loss 0.35\n",
      "epoch 1400: loss 0.35\n",
      "epoch 1600: loss 0.35\n",
      "epoch 1800: loss 0.35\n",
      "epoch 2000: loss 0.35\n",
      "epoch 200: loss 0.56\n",
      "epoch 400: loss 0.37\n",
      "epoch 600: loss 0.36\n",
      "epoch 800: loss 0.35\n",
      "epoch 1000: loss 0.35\n",
      "epoch 1200: loss 0.35\n",
      "epoch 1400: loss 0.35\n",
      "epoch 1600: loss 0.35\n",
      "epoch 1800: loss 0.35\n",
      "epoch 2000: loss 0.35\n",
      "epoch 200: loss 0.68\n",
      "epoch 400: loss 0.33\n",
      "epoch 600: loss 0.14\n",
      "epoch 800: loss 0.07\n",
      "epoch 1000: loss 0.04\n",
      "epoch 1200: loss 0.03\n",
      "epoch 1400: loss 0.02\n",
      "epoch 1600: loss 0.02\n",
      "epoch 1800: loss 0.01\n",
      "epoch 2000: loss 0.01\n",
      "epoch 200: loss 0.56\n",
      "epoch 400: loss 0.11\n",
      "epoch 600: loss 0.05\n",
      "epoch 800: loss 0.03\n",
      "epoch 1000: loss 0.02\n",
      "epoch 1200: loss 0.01\n",
      "epoch 1400: loss 0.01\n",
      "epoch 1600: loss 0.01\n",
      "epoch 1800: loss 0.01\n",
      "epoch 2000: loss 0.00\n",
      "epoch 200: loss 0.48\n",
      "epoch 400: loss 0.37\n",
      "epoch 600: loss 0.36\n",
      "epoch 800: loss 0.35\n",
      "epoch 1000: loss 0.35\n",
      "epoch 1200: loss 0.35\n",
      "epoch 1400: loss 0.35\n",
      "epoch 1600: loss 0.35\n",
      "epoch 1800: loss 0.35\n",
      "epoch 2000: loss 0.35\n",
      "epoch 200: loss 0.52\n",
      "epoch 400: loss 0.37\n",
      "epoch 600: loss 0.36\n",
      "epoch 800: loss 0.35\n",
      "epoch 1000: loss 0.35\n",
      "epoch 1200: loss 0.35\n",
      "epoch 1400: loss 0.35\n",
      "epoch 1600: loss 0.35\n",
      "epoch 1800: loss 0.35\n",
      "epoch 2000: loss 0.35\n",
      "epoch 200: loss 0.64\n",
      "epoch 400: loss 0.38\n",
      "epoch 600: loss 0.36\n",
      "epoch 800: loss 0.35\n",
      "epoch 1000: loss 0.35\n",
      "epoch 1200: loss 0.35\n",
      "epoch 1400: loss 0.35\n",
      "epoch 1600: loss 0.35\n",
      "epoch 1800: loss 0.35\n",
      "epoch 2000: loss 0.35\n",
      "epoch 200: loss 0.56\n",
      "epoch 400: loss 0.11\n",
      "epoch 600: loss 0.04\n",
      "epoch 800: loss 0.02\n",
      "epoch 1000: loss 0.01\n",
      "epoch 1200: loss 0.01\n",
      "epoch 1400: loss 0.01\n",
      "epoch 1600: loss 0.01\n",
      "epoch 1800: loss 0.00\n",
      "epoch 2000: loss 0.00\n",
      "epoch 200: loss 0.56\n",
      "epoch 400: loss 0.16\n",
      "epoch 600: loss 0.06\n",
      "epoch 800: loss 0.03\n",
      "epoch 1000: loss 0.02\n",
      "epoch 1200: loss 0.01\n",
      "epoch 1400: loss 0.01\n",
      "epoch 1600: loss 0.01\n",
      "epoch 1800: loss 0.01\n",
      "epoch 2000: loss 0.01\n",
      "{'success': 5, 'fail': 5}\n"
     ]
    }
   ],
   "source": [
    "counter = {'success':0, 'fail':0}\n",
    "\n",
    "for _ in range(10):\n",
    "\n",
    "    neurons = []\n",
    "    current_neuron = Neuron(n_inputs=n, activation=nn.Sigmoid()).to(device)\n",
    "\n",
    "    train(current_neuron, X, y, device=device, epochs=5000, verbose=False)\n",
    "\n",
    "    X_new, y_new = check(current_neuron, X, y, device=device, verbose=False)\n",
    "\n",
    "    if X_new is None:\n",
    "        result_model = current_neuron\n",
    "        print(result_model)\n",
    "\n",
    "    else:\n",
    "        neurons.append(deepcopy(current_neuron))\n",
    "\n",
    "        while X_new is not None:\n",
    "\n",
    "            current_neuron = Neuron(n_inputs=n, activation=nn.Sigmoid()).to(device)\n",
    "\n",
    "            train(current_neuron, X_new, y_new, device=device, epochs=5000, verbose=False)\n",
    "\n",
    "            X_new, y_new = check(current_neuron, X_new, y_new, device=device, verbose=False)\n",
    "\n",
    "            neurons.append(deepcopy(current_neuron))\n",
    "\n",
    "        for extra in range(1):\n",
    "            neurons.append(Neuron(n_inputs=n, activation=nn.Sigmoid()).to(device))\n",
    "\n",
    "        big_model = BigModel(neurons, activation=nn.Sigmoid()).to(device)\n",
    "\n",
    "        train(big_model, X, y, device=device, epochs=2000, verbose=True)\n",
    "\n",
    "        X_new, y_new = check(big_model, X, y, device=device, verbose=False)\n",
    "\n",
    "        result_model = deepcopy(big_model)\n",
    "\n",
    "    if X_new is None:\n",
    "        counter['success'] += 1\n",
    "    else:\n",
    "        counter['fail'] += 1\n",
    "\n",
    "print(counter)"
   ]
  },
  {
   "cell_type": "markdown",
   "id": "6b466b50-f4a7-4a7a-9db3-b98eff4bcf65",
   "metadata": {},
   "source": [
    "## Результаты, выводы\n",
    "Была ошибка в инициализации большой модели из 3-х случайных нейронов: код \n",
    "\n",
    "` neurons = [Neuron(n_inputs=n, activation=nn.Sigmoid())] * 3`\n",
    "\n",
    "`big_model = BigModel(neurons, activation=nn.Sigmoid()).to(device)`\n",
    "\n",
    "задает модель из трех нейронов, которые *были ссылками на один и тот же объект*. В `neurons` было 3 нейрона, но это было 3 копии одного объекта. И тогда модель не училась (0 успехов из 10 запусков).\n",
    "\n",
    "Если делать правильно \n",
    "\n",
    "` neurons = [Neuron(n_inputs=n, activation=nn.Sigmoid()) for _ in range(3)]`\n",
    "\n",
    "То это будет 3 честных случайных независимых нейрона. В таком случае модель учится в 9 случаев из 10.\n",
    "\n",
    "А вот использование 2-х предобученных, и дополнительного одного случайного, в тех же условиях обучения, приводит лишь к 5 успешным обучениям из 10.\n",
    "\n",
    "В итоге можно сделать вывод, что обучение с нуля даже лучше, а использование двух предобученных нейронов в совокупности с экстра случайным, только мешает.\n",
    "\n",
    ":( :( :("
   ]
  }
 ],
 "metadata": {
  "kernelspec": {
   "display_name": "Python 3 (ipykernel)",
   "language": "python",
   "name": "python3"
  },
  "language_info": {
   "codemirror_mode": {
    "name": "ipython",
    "version": 3
   },
   "file_extension": ".py",
   "mimetype": "text/x-python",
   "name": "python",
   "nbconvert_exporter": "python",
   "pygments_lexer": "ipython3",
   "version": "3.8.10"
  }
 },
 "nbformat": 4,
 "nbformat_minor": 5
}
